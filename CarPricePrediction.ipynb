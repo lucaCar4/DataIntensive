{
 "cells": [
  {
   "cell_type": "markdown",
   "id": "8f0dc2ab-4040-4cd8-845f-4fd98fa1ea67",
   "metadata": {},
   "source": [
    "# Previsione del prezzo di Auto Usate"
   ]
  },
  {
   "cell_type": "markdown",
   "id": "a41cdcb3-a9b0-49fe-8f74-f7da64160eda",
   "metadata": {},
   "source": [
    "Realizzato da: Luca Carabini (luca.carabini@studio.unibo.it)"
   ]
  },
  {
   "cell_type": "markdown",
   "id": "23fef6ff-342a-4f32-b36a-9ef38442cd80",
   "metadata": {},
   "source": [
    "## Caricamento delle Librerie"
   ]
  },
  {
   "cell_type": "markdown",
   "id": "b6055d44-fad5-429c-9ab9-b24ff87a3d28",
   "metadata": {},
   "source": [
    "Procedo con il caricamento delle librerie per effetuare operazioni sui dati"
   ]
  },
  {
   "cell_type": "code",
   "execution_count": 5,
   "id": "b985aae5-c35b-488e-9b69-3e479debad12",
   "metadata": {},
   "outputs": [],
   "source": [
    "import numpy as np\n",
    "import pandas as pd\n",
    "import matplotlib.pyplot as plt\n",
    "%matplotlib inline"
   ]
  },
  {
   "cell_type": "markdown",
   "id": "f696c5bf-12e8-40e8-986d-014829bff31f",
   "metadata": {},
   "source": [
    "## Caricamento Dataset e breve descrizione"
   ]
  },
  {
   "cell_type": "markdown",
   "id": "ebc3b601-6a1c-4a80-8371-6e8f226d2568",
   "metadata": {},
   "source": [
    "Il Dataset è stato preso da [kaggle](https://www.kaggle.com/datasets/muhammadawaistayyab/used-cars-prices-in-uk), contiene alcune vendite di auto usate nel Regno Unito"
   ]
  },
  {
   "cell_type": "code",
   "execution_count": 9,
   "id": "7cbaaf35-76e2-4d51-9c6e-a6a8bcee04e0",
   "metadata": {},
   "outputs": [
    {
     "data": {
      "text/html": [
       "<div>\n",
       "<style scoped>\n",
       "    .dataframe tbody tr th:only-of-type {\n",
       "        vertical-align: middle;\n",
       "    }\n",
       "\n",
       "    .dataframe tbody tr th {\n",
       "        vertical-align: top;\n",
       "    }\n",
       "\n",
       "    .dataframe thead th {\n",
       "        text-align: right;\n",
       "    }\n",
       "</style>\n",
       "<table border=\"1\" class=\"dataframe\">\n",
       "  <thead>\n",
       "    <tr style=\"text-align: right;\">\n",
       "      <th></th>\n",
       "      <th>title</th>\n",
       "      <th>Price</th>\n",
       "      <th>Mileage(miles)</th>\n",
       "      <th>Registration_Year</th>\n",
       "      <th>Previous Owners</th>\n",
       "      <th>Fuel type</th>\n",
       "      <th>Body type</th>\n",
       "      <th>Engine</th>\n",
       "      <th>Gearbox</th>\n",
       "      <th>Doors</th>\n",
       "      <th>Seats</th>\n",
       "      <th>Emission Class</th>\n",
       "      <th>Service history</th>\n",
       "    </tr>\n",
       "  </thead>\n",
       "  <tbody>\n",
       "    <tr>\n",
       "      <th>0</th>\n",
       "      <td>SKODA Fabia</td>\n",
       "      <td>6900</td>\n",
       "      <td>70189</td>\n",
       "      <td>2016</td>\n",
       "      <td>3.0</td>\n",
       "      <td>Diesel</td>\n",
       "      <td>Hatchback</td>\n",
       "      <td>1.4L</td>\n",
       "      <td>Manual</td>\n",
       "      <td>5.0</td>\n",
       "      <td>5.0</td>\n",
       "      <td>Euro 6</td>\n",
       "      <td>NaN</td>\n",
       "    </tr>\n",
       "    <tr>\n",
       "      <th>1</th>\n",
       "      <td>Vauxhall Corsa</td>\n",
       "      <td>1495</td>\n",
       "      <td>88585</td>\n",
       "      <td>2008</td>\n",
       "      <td>4.0</td>\n",
       "      <td>Petrol</td>\n",
       "      <td>Hatchback</td>\n",
       "      <td>1.2L</td>\n",
       "      <td>Manual</td>\n",
       "      <td>3.0</td>\n",
       "      <td>5.0</td>\n",
       "      <td>Euro 4</td>\n",
       "      <td>Full</td>\n",
       "    </tr>\n",
       "    <tr>\n",
       "      <th>2</th>\n",
       "      <td>Hyundai i30</td>\n",
       "      <td>949</td>\n",
       "      <td>137000</td>\n",
       "      <td>2011</td>\n",
       "      <td>NaN</td>\n",
       "      <td>Petrol</td>\n",
       "      <td>Hatchback</td>\n",
       "      <td>1.4L</td>\n",
       "      <td>Manual</td>\n",
       "      <td>5.0</td>\n",
       "      <td>5.0</td>\n",
       "      <td>Euro 5</td>\n",
       "      <td>NaN</td>\n",
       "    </tr>\n",
       "    <tr>\n",
       "      <th>3</th>\n",
       "      <td>MINI Hatch</td>\n",
       "      <td>2395</td>\n",
       "      <td>96731</td>\n",
       "      <td>2010</td>\n",
       "      <td>5.0</td>\n",
       "      <td>Petrol</td>\n",
       "      <td>Hatchback</td>\n",
       "      <td>1.4L</td>\n",
       "      <td>Manual</td>\n",
       "      <td>3.0</td>\n",
       "      <td>4.0</td>\n",
       "      <td>Euro 4</td>\n",
       "      <td>Full</td>\n",
       "    </tr>\n",
       "    <tr>\n",
       "      <th>4</th>\n",
       "      <td>Vauxhall Corsa</td>\n",
       "      <td>1000</td>\n",
       "      <td>85000</td>\n",
       "      <td>2013</td>\n",
       "      <td>NaN</td>\n",
       "      <td>Diesel</td>\n",
       "      <td>Hatchback</td>\n",
       "      <td>1.3L</td>\n",
       "      <td>Manual</td>\n",
       "      <td>5.0</td>\n",
       "      <td>5.0</td>\n",
       "      <td>Euro 5</td>\n",
       "      <td>NaN</td>\n",
       "    </tr>\n",
       "  </tbody>\n",
       "</table>\n",
       "</div>"
      ],
      "text/plain": [
       "            title  Price  Mileage(miles)  Registration_Year  Previous Owners  \\\n",
       "0     SKODA Fabia   6900           70189               2016              3.0   \n",
       "1  Vauxhall Corsa   1495           88585               2008              4.0   \n",
       "2     Hyundai i30    949          137000               2011              NaN   \n",
       "3      MINI Hatch   2395           96731               2010              5.0   \n",
       "4  Vauxhall Corsa   1000           85000               2013              NaN   \n",
       "\n",
       "  Fuel type  Body type Engine Gearbox  Doors  Seats Emission Class  \\\n",
       "0    Diesel  Hatchback   1.4L  Manual    5.0    5.0         Euro 6   \n",
       "1    Petrol  Hatchback   1.2L  Manual    3.0    5.0         Euro 4   \n",
       "2    Petrol  Hatchback   1.4L  Manual    5.0    5.0         Euro 5   \n",
       "3    Petrol  Hatchback   1.4L  Manual    3.0    4.0         Euro 4   \n",
       "4    Diesel  Hatchback   1.3L  Manual    5.0    5.0         Euro 5   \n",
       "\n",
       "  Service history  \n",
       "0             NaN  \n",
       "1            Full  \n",
       "2             NaN  \n",
       "3            Full  \n",
       "4             NaN  "
      ]
     },
     "execution_count": 9,
     "metadata": {},
     "output_type": "execute_result"
    }
   ],
   "source": [
    "used_cars = pd.read_csv(\"used_cars_UK.csv\", index_col=0)\n",
    "used_cars.head(5)"
   ]
  },
  {
   "cell_type": "markdown",
   "id": "438408c8-b220-4bbb-b790-48dfde056e75",
   "metadata": {},
   "source": [
    "Analizziamo ora i le feature:\n",
    "- `title`: contiene la marca e il modello\n",
    "- `Price`: contiene il prezzo in sterline (sarà la nostra variabile da predirre)\n",
    "- `Mileage(miles)`: Miglia percorse\n",
    "- `Registration_Year` : Anno di immatricolazione\n",
    "- `Previous Owners`: Indica il numero di proprietari\n",
    "- `Fuel type` : tipo di carburante\n",
    "- `Body type` : Categoria auto (Berlina, suv, ecc..)\n",
    "- `Engine` : Cilindrata\n",
    "- `Gearbox` : Cambio\n",
    "- `Doors` : Neumero delle porte\n",
    "- `Seats` : Numero dei posti a sedere\n",
    "- `Emission Class` : Classe di Emissione\n",
    "- `Service history` : Storico della manutenzione "
   ]
  },
  {
   "cell_type": "markdown",
   "id": "620cd5eb-1753-4425-858b-40ce6cb91d19",
   "metadata": {},
   "source": [
    "## Analisi e modifiche delle singole Feature"
   ]
  },
  {
   "cell_type": "markdown",
   "id": "2302ee41-cafa-464d-8183-d3053af38384",
   "metadata": {},
   "source": [
    "Inizio rinominando alcune colonne"
   ]
  },
  {
   "cell_type": "code",
   "execution_count": 14,
   "id": "4d60aaca-4ef6-4f3f-a27e-aee2e3072686",
   "metadata": {},
   "outputs": [
    {
     "data": {
      "text/html": [
       "<div>\n",
       "<style scoped>\n",
       "    .dataframe tbody tr th:only-of-type {\n",
       "        vertical-align: middle;\n",
       "    }\n",
       "\n",
       "    .dataframe tbody tr th {\n",
       "        vertical-align: top;\n",
       "    }\n",
       "\n",
       "    .dataframe thead th {\n",
       "        text-align: right;\n",
       "    }\n",
       "</style>\n",
       "<table border=\"1\" class=\"dataframe\">\n",
       "  <thead>\n",
       "    <tr style=\"text-align: right;\">\n",
       "      <th></th>\n",
       "      <th>make</th>\n",
       "      <th>price</th>\n",
       "      <th>mileage</th>\n",
       "      <th>registration_year</th>\n",
       "      <th>previous_owners</th>\n",
       "      <th>fuel</th>\n",
       "      <th>body</th>\n",
       "      <th>engine</th>\n",
       "      <th>gearbox</th>\n",
       "      <th>doors</th>\n",
       "      <th>seats</th>\n",
       "      <th>emission_class</th>\n",
       "      <th>Service history</th>\n",
       "    </tr>\n",
       "  </thead>\n",
       "  <tbody>\n",
       "    <tr>\n",
       "      <th>0</th>\n",
       "      <td>SKODA Fabia</td>\n",
       "      <td>6900</td>\n",
       "      <td>70189</td>\n",
       "      <td>2016</td>\n",
       "      <td>3.0</td>\n",
       "      <td>Diesel</td>\n",
       "      <td>Hatchback</td>\n",
       "      <td>1.4L</td>\n",
       "      <td>Manual</td>\n",
       "      <td>5.0</td>\n",
       "      <td>5.0</td>\n",
       "      <td>Euro 6</td>\n",
       "      <td>NaN</td>\n",
       "    </tr>\n",
       "    <tr>\n",
       "      <th>1</th>\n",
       "      <td>Vauxhall Corsa</td>\n",
       "      <td>1495</td>\n",
       "      <td>88585</td>\n",
       "      <td>2008</td>\n",
       "      <td>4.0</td>\n",
       "      <td>Petrol</td>\n",
       "      <td>Hatchback</td>\n",
       "      <td>1.2L</td>\n",
       "      <td>Manual</td>\n",
       "      <td>3.0</td>\n",
       "      <td>5.0</td>\n",
       "      <td>Euro 4</td>\n",
       "      <td>Full</td>\n",
       "    </tr>\n",
       "    <tr>\n",
       "      <th>2</th>\n",
       "      <td>Hyundai i30</td>\n",
       "      <td>949</td>\n",
       "      <td>137000</td>\n",
       "      <td>2011</td>\n",
       "      <td>NaN</td>\n",
       "      <td>Petrol</td>\n",
       "      <td>Hatchback</td>\n",
       "      <td>1.4L</td>\n",
       "      <td>Manual</td>\n",
       "      <td>5.0</td>\n",
       "      <td>5.0</td>\n",
       "      <td>Euro 5</td>\n",
       "      <td>NaN</td>\n",
       "    </tr>\n",
       "    <tr>\n",
       "      <th>3</th>\n",
       "      <td>MINI Hatch</td>\n",
       "      <td>2395</td>\n",
       "      <td>96731</td>\n",
       "      <td>2010</td>\n",
       "      <td>5.0</td>\n",
       "      <td>Petrol</td>\n",
       "      <td>Hatchback</td>\n",
       "      <td>1.4L</td>\n",
       "      <td>Manual</td>\n",
       "      <td>3.0</td>\n",
       "      <td>4.0</td>\n",
       "      <td>Euro 4</td>\n",
       "      <td>Full</td>\n",
       "    </tr>\n",
       "    <tr>\n",
       "      <th>4</th>\n",
       "      <td>Vauxhall Corsa</td>\n",
       "      <td>1000</td>\n",
       "      <td>85000</td>\n",
       "      <td>2013</td>\n",
       "      <td>NaN</td>\n",
       "      <td>Diesel</td>\n",
       "      <td>Hatchback</td>\n",
       "      <td>1.3L</td>\n",
       "      <td>Manual</td>\n",
       "      <td>5.0</td>\n",
       "      <td>5.0</td>\n",
       "      <td>Euro 5</td>\n",
       "      <td>NaN</td>\n",
       "    </tr>\n",
       "    <tr>\n",
       "      <th>...</th>\n",
       "      <td>...</td>\n",
       "      <td>...</td>\n",
       "      <td>...</td>\n",
       "      <td>...</td>\n",
       "      <td>...</td>\n",
       "      <td>...</td>\n",
       "      <td>...</td>\n",
       "      <td>...</td>\n",
       "      <td>...</td>\n",
       "      <td>...</td>\n",
       "      <td>...</td>\n",
       "      <td>...</td>\n",
       "      <td>...</td>\n",
       "    </tr>\n",
       "    <tr>\n",
       "      <th>4723</th>\n",
       "      <td>Renault Megane</td>\n",
       "      <td>1395</td>\n",
       "      <td>76202</td>\n",
       "      <td>2006</td>\n",
       "      <td>4.0</td>\n",
       "      <td>Petrol</td>\n",
       "      <td>Hatchback</td>\n",
       "      <td>1.6L</td>\n",
       "      <td>Manual</td>\n",
       "      <td>5.0</td>\n",
       "      <td>5.0</td>\n",
       "      <td>Euro 4</td>\n",
       "      <td>NaN</td>\n",
       "    </tr>\n",
       "    <tr>\n",
       "      <th>4724</th>\n",
       "      <td>Audi A4</td>\n",
       "      <td>6990</td>\n",
       "      <td>119000</td>\n",
       "      <td>2012</td>\n",
       "      <td>NaN</td>\n",
       "      <td>Petrol</td>\n",
       "      <td>Saloon</td>\n",
       "      <td>2.0L</td>\n",
       "      <td>Manual</td>\n",
       "      <td>4.0</td>\n",
       "      <td>5.0</td>\n",
       "      <td>Euro 5</td>\n",
       "      <td>NaN</td>\n",
       "    </tr>\n",
       "    <tr>\n",
       "      <th>4725</th>\n",
       "      <td>BMW 3 Series</td>\n",
       "      <td>3995</td>\n",
       "      <td>139000</td>\n",
       "      <td>2013</td>\n",
       "      <td>NaN</td>\n",
       "      <td>Diesel</td>\n",
       "      <td>Saloon</td>\n",
       "      <td>2.0L</td>\n",
       "      <td>Manual</td>\n",
       "      <td>4.0</td>\n",
       "      <td>5.0</td>\n",
       "      <td>Euro 5</td>\n",
       "      <td>NaN</td>\n",
       "    </tr>\n",
       "    <tr>\n",
       "      <th>4726</th>\n",
       "      <td>Honda Accord</td>\n",
       "      <td>1390</td>\n",
       "      <td>179190</td>\n",
       "      <td>2007</td>\n",
       "      <td>NaN</td>\n",
       "      <td>Diesel</td>\n",
       "      <td>Estate</td>\n",
       "      <td>2.2L</td>\n",
       "      <td>Manual</td>\n",
       "      <td>5.0</td>\n",
       "      <td>5.0</td>\n",
       "      <td>Euro 4</td>\n",
       "      <td>Full</td>\n",
       "    </tr>\n",
       "    <tr>\n",
       "      <th>4727</th>\n",
       "      <td>Vauxhall Corsa</td>\n",
       "      <td>2000</td>\n",
       "      <td>82160</td>\n",
       "      <td>2013</td>\n",
       "      <td>7.0</td>\n",
       "      <td>Petrol</td>\n",
       "      <td>Hatchback</td>\n",
       "      <td>1.2L</td>\n",
       "      <td>Manual</td>\n",
       "      <td>5.0</td>\n",
       "      <td>5.0</td>\n",
       "      <td>Euro 5</td>\n",
       "      <td>NaN</td>\n",
       "    </tr>\n",
       "  </tbody>\n",
       "</table>\n",
       "<p>3685 rows × 13 columns</p>\n",
       "</div>"
      ],
      "text/plain": [
       "                make  price  mileage  registration_year  previous_owners  \\\n",
       "0        SKODA Fabia   6900    70189               2016              3.0   \n",
       "1     Vauxhall Corsa   1495    88585               2008              4.0   \n",
       "2        Hyundai i30    949   137000               2011              NaN   \n",
       "3         MINI Hatch   2395    96731               2010              5.0   \n",
       "4     Vauxhall Corsa   1000    85000               2013              NaN   \n",
       "...              ...    ...      ...                ...              ...   \n",
       "4723  Renault Megane   1395    76202               2006              4.0   \n",
       "4724         Audi A4   6990   119000               2012              NaN   \n",
       "4725    BMW 3 Series   3995   139000               2013              NaN   \n",
       "4726    Honda Accord   1390   179190               2007              NaN   \n",
       "4727  Vauxhall Corsa   2000    82160               2013              7.0   \n",
       "\n",
       "        fuel       body engine gearbox  doors  seats emission_class  \\\n",
       "0     Diesel  Hatchback   1.4L  Manual    5.0    5.0         Euro 6   \n",
       "1     Petrol  Hatchback   1.2L  Manual    3.0    5.0         Euro 4   \n",
       "2     Petrol  Hatchback   1.4L  Manual    5.0    5.0         Euro 5   \n",
       "3     Petrol  Hatchback   1.4L  Manual    3.0    4.0         Euro 4   \n",
       "4     Diesel  Hatchback   1.3L  Manual    5.0    5.0         Euro 5   \n",
       "...      ...        ...    ...     ...    ...    ...            ...   \n",
       "4723  Petrol  Hatchback   1.6L  Manual    5.0    5.0         Euro 4   \n",
       "4724  Petrol     Saloon   2.0L  Manual    4.0    5.0         Euro 5   \n",
       "4725  Diesel     Saloon   2.0L  Manual    4.0    5.0         Euro 5   \n",
       "4726  Diesel     Estate   2.2L  Manual    5.0    5.0         Euro 4   \n",
       "4727  Petrol  Hatchback   1.2L  Manual    5.0    5.0         Euro 5   \n",
       "\n",
       "     Service history  \n",
       "0                NaN  \n",
       "1               Full  \n",
       "2                NaN  \n",
       "3               Full  \n",
       "4                NaN  \n",
       "...              ...  \n",
       "4723             NaN  \n",
       "4724             NaN  \n",
       "4725             NaN  \n",
       "4726            Full  \n",
       "4727             NaN  \n",
       "\n",
       "[3685 rows x 13 columns]"
      ]
     },
     "execution_count": 14,
     "metadata": {},
     "output_type": "execute_result"
    }
   ],
   "source": [
    "used_cars = used_cars.rename(columns={\"title\":\"make\", \"Price\":\"price\", \"Mileage(miles)\":\"mileage\", \n",
    "                          \"Registration_Year\":\"registration_year\", \"Previous Owners\":\"previous_owners\", \n",
    "                          \"Fuel type\":\"fuel\", \"Body type\":\"body\", \"Engine\":\"engine\", \"Gearbox\":\"gearbox\", \n",
    "                          \"Doors\":\"doors\", \"Seats\":\"seats\", \"Emission Class\":\"emission_class\"  })\n",
    "used_cars"
   ]
  },
  {
   "cell_type": "markdown",
   "id": "a9b84f14-e074-4fc3-98c8-633c90758eaf",
   "metadata": {},
   "source": [
    "### Service history\n"
   ]
  },
  {
   "cell_type": "markdown",
   "id": "9c0b4306-ebf8-4427-97f0-9b3513669bc6",
   "metadata": {},
   "source": [
    "Osservando i dati di questa feature, si nota che l'85% di essi sono nulli, quindi procederò ad eliminarla"
   ]
  },
  {
   "cell_type": "code",
   "execution_count": 18,
   "id": "a81964f2-6612-4b25-b0fb-0117103720db",
   "metadata": {},
   "outputs": [
    {
     "data": {
      "text/plain": [
       "85.3459972862958"
      ]
     },
     "execution_count": 18,
     "metadata": {},
     "output_type": "execute_result"
    }
   ],
   "source": [
    "(used_cars.loc[:,\"Service history\"].isna().sum()*100)/used_cars.shape[0]"
   ]
  },
  {
   "cell_type": "code",
   "execution_count": 19,
   "id": "85de97d6-733f-4b88-91f0-38688201f304",
   "metadata": {},
   "outputs": [],
   "source": [
    "used_cars = used_cars.drop(columns=\"Service history\")"
   ]
  },
  {
   "cell_type": "markdown",
   "id": "cfd6e809-7dcf-4724-95a9-c0ec13038276",
   "metadata": {},
   "source": [
    "Ora posso togliere tutte le righe NaN"
   ]
  },
  {
   "cell_type": "code",
   "execution_count": 23,
   "id": "a9ed2fc0-7587-4b5f-88bc-ee08a81626c4",
   "metadata": {},
   "outputs": [],
   "source": [
    "used_cars = used_cars.dropna()"
   ]
  },
  {
   "cell_type": "markdown",
   "id": "08c9720b-cc05-4e45-a78d-fd283e609c30",
   "metadata": {},
   "source": [
    "### make"
   ]
  },
  {
   "cell_type": "markdown",
   "id": "192de743-66a4-4cf0-90a1-8faea335a2cf",
   "metadata": {},
   "source": [
    "Questa feature contiene la marca e il modello dell'auto.\n",
    "Andrò a separare la marca dal modello."
   ]
  },
  {
   "cell_type": "markdown",
   "id": "ff5d10f3-9525-40ce-ae96-b30dbf24bfa9",
   "metadata": {},
   "source": [
    "Inizio con il definire una funzione split che ritorna il ritorna il numero di caratteri che compongono la marcha"
   ]
  },
  {
   "cell_type": "code",
   "execution_count": 28,
   "id": "bd59f25c-50ed-4d01-900f-925e0eaf70d6",
   "metadata": {},
   "outputs": [],
   "source": [
    "def split (name) :\n",
    "    count = 0\n",
    "    for s in name :\n",
    "        if (s == \" \") :\n",
    "            return count\n",
    "            \n",
    "        else :\n",
    "            count += 1"
   ]
  },
  {
   "cell_type": "markdown",
   "id": "31e6db69-aafb-4428-afdf-1d17a4c9d767",
   "metadata": {},
   "source": [
    "Proseguo con la separazione e la creazione di una nuova feature che conterrà il modello dell'auto"
   ]
  },
  {
   "cell_type": "code",
   "execution_count": 31,
   "id": "5633f4f6-2f60-4bdb-a84c-6167167f204f",
   "metadata": {},
   "outputs": [],
   "source": [
    "for index, row in used_cars.iterrows():\n",
    "    title = used_cars.loc[index,\"make\"]\n",
    "    s = split(title)\n",
    "    used_cars.loc[index,\"make\"] = title[:s]\n",
    "    used_cars.loc[index,\"model\"] = title[s+1:]"
   ]
  },
  {
   "cell_type": "markdown",
   "id": "09b1ee63-7306-425e-be9a-504452330eaf",
   "metadata": {},
   "source": [
    "Vediamo ora la distribuzione di marche e modelli"
   ]
  },
  {
   "cell_type": "code",
   "execution_count": 33,
   "id": "aa05bf72-4649-4997-b3f8-c9084a0ba174",
   "metadata": {},
   "outputs": [
    {
     "data": {
      "text/plain": [
       "model\n",
       "Corsa      104\n",
       "Focus       89\n",
       "Astra       86\n",
       "Fiesta      79\n",
       "Polo        76\n",
       "          ... \n",
       "Jimny        1\n",
       "Tarraco      1\n",
       "Agila        1\n",
       "308 CC       1\n",
       "Prelude      1\n",
       "Name: count, Length: 367, dtype: int64"
      ]
     },
     "execution_count": 33,
     "metadata": {},
     "output_type": "execute_result"
    }
   ],
   "source": [
    "used_cars.loc[:,\"model\"].value_counts()"
   ]
  },
  {
   "cell_type": "markdown",
   "id": "a83bce70-2984-429d-aa4d-f70b7190279f",
   "metadata": {},
   "source": [
    "In totale sono presenti 427 modelli di auto"
   ]
  },
  {
   "cell_type": "markdown",
   "id": "2d4b9433-3088-4d57-bc4e-a84cc725748c",
   "metadata": {},
   "source": [
    "Possiamo notare che ci sono molti modelli che però hanno un numero di istanze molto basso. Infatti circa la metà di essi, sono presenti solo 1 volta nel dataset"
   ]
  },
  {
   "cell_type": "code",
   "execution_count": 36,
   "id": "37217b0b-5412-403a-bb04-a964674b5b24",
   "metadata": {},
   "outputs": [
    {
     "data": {
      "text/plain": [
       "163"
      ]
     },
     "execution_count": 36,
     "metadata": {},
     "output_type": "execute_result"
    }
   ],
   "source": [
    "(used_cars.loc[:,\"model\"].value_counts() == 1).sum()"
   ]
  },
  {
   "cell_type": "markdown",
   "id": "75bec73e-b7f9-473a-b838-00ec46d6c458",
   "metadata": {},
   "source": [
    "Procederò quindi ad eliminare le istanze del dataset che contengono un modello poco usato, così da evitare problemi durante la validazione, e rendendo più efficace e preciso il modello"
   ]
  },
  {
   "cell_type": "code",
   "execution_count": 38,
   "id": "d0264bac-6a3a-4ca4-8a2b-ba2a92835c77",
   "metadata": {},
   "outputs": [],
   "source": [
    "delete = used_cars[\"model\"].value_counts()[used_cars[\"model\"].value_counts() < 10].index\n",
    "used_cars = used_cars[~used_cars['model'].isin(delete)]"
   ]
  },
  {
   "cell_type": "markdown",
   "id": "f2c0c181-bd10-454f-924f-7f74cfc25e2f",
   "metadata": {},
   "source": [
    "Per quanto riguarda le marche invece c'è una predominanza della Vauxhall"
   ]
  },
  {
   "cell_type": "code",
   "execution_count": 40,
   "id": "4c4b5296-7ed6-48be-853e-573bbac6d0a8",
   "metadata": {},
   "outputs": [
    {
     "data": {
      "image/png": "[encoded data removed]",
      "text/plain": [
       "<Figure size 1500x400 with 1 Axes>"
      ]
     },
     "metadata": {},
     "output_type": "display_data"
    }
   ],
   "source": [
    "used_cars[\"make\"].value_counts().plot.bar(figsize=(15, 4))\n",
    "plt.show()"
   ]
  },
  {
   "cell_type": "code",
   "execution_count": 41,
   "id": "72f7cbd6-a7fd-4236-9c8e-0484ebf5de95",
   "metadata": {},
   "outputs": [],
   "source": [
    "delete = used_cars[\"make\"].value_counts()[used_cars[\"make\"].value_counts() < 10].index"
   ]
  },
  {
   "cell_type": "code",
   "execution_count": 42,
   "id": "210a0dda-f432-4a10-a25a-f498595ce248",
   "metadata": {},
   "outputs": [],
   "source": [
    "used_cars = used_cars[~used_cars['make'].isin(delete)]"
   ]
  },
  {
   "cell_type": "markdown",
   "id": "a3838562-30f6-4762-92d3-d6ecffedda58",
   "metadata": {},
   "source": [
    "Anche in questo caso ho eliminato istanze che contengono marche poco presenti nel dataset"
   ]
  },
  {
   "cell_type": "code",
   "execution_count": 44,
   "id": "05f7d737-cd70-4c7e-8aad-7fe907d39d93",
   "metadata": {},
   "outputs": [
    {
     "data": {
      "image/png": "[encoded data removed]",
      "text/plain": [
       "<Figure size 1500x400 with 1 Axes>"
      ]
     },
     "metadata": {},
     "output_type": "display_data"
    }
   ],
   "source": [
    "used_cars[\"make\"].value_counts().plot.bar(figsize=(15, 4))\n",
    "plt.show()"
   ]
  },
  {
   "cell_type": "markdown",
   "id": "b458708d-0c0d-47c3-98bf-6e7e3eae8c22",
   "metadata": {},
   "source": [
    "### price"
   ]
  },
  {
   "cell_type": "markdown",
   "id": "b6bb49c7-640a-4c66-a793-2ed063792ae9",
   "metadata": {},
   "source": [
    "Questa feature rappresenta il prezzo espresso in sterline"
   ]
  },
  {
   "cell_type": "code",
   "execution_count": 47,
   "id": "8771a030-328b-45f0-95da-71454f8d54aa",
   "metadata": {},
   "outputs": [
    {
     "data": {
      "text/plain": [
       "count     1451.000000\n",
       "mean      5758.718815\n",
       "std       4632.576630\n",
       "min        400.000000\n",
       "25%       2395.000000\n",
       "50%       3995.000000\n",
       "75%       7995.000000\n",
       "max      23220.000000\n",
       "Name: price, dtype: float64"
      ]
     },
     "execution_count": 47,
     "metadata": {},
     "output_type": "execute_result"
    }
   ],
   "source": [
    "used_cars[\"price\"].describe()"
   ]
  },
  {
   "cell_type": "markdown",
   "id": "6bfe6209-b9d4-4a06-a193-b16a146f3784",
   "metadata": {},
   "source": [
    "La colonna del prezzo ha una deviazione alta, in quanto il prezzo massimo è di molto superiore rispotto alla media generale dei prezzi"
   ]
  },
  {
   "cell_type": "markdown",
   "id": "3df027bc-70d8-4639-8bf7-321d3b61316e",
   "metadata": {},
   "source": [
    "### previous_owners"
   ]
  },
  {
   "cell_type": "code",
   "execution_count": 50,
   "id": "2e8fa885-fe66-4ab2-8a1f-abb27d474e9a",
   "metadata": {},
   "outputs": [
    {
     "data": {
      "text/plain": [
       "previous_owners\n",
       "2.0    352\n",
       "1.0    346\n",
       "3.0    302\n",
       "4.0    237\n",
       "5.0    140\n",
       "6.0     38\n",
       "7.0     26\n",
       "8.0      7\n",
       "9.0      3\n",
       "Name: count, dtype: int64"
      ]
     },
     "execution_count": 50,
     "metadata": {},
     "output_type": "execute_result"
    }
   ],
   "source": [
    "used_cars[\"previous_owners\"].value_counts()"
   ]
  },
  {
   "cell_type": "markdown",
   "id": "5510fbc6-c740-4474-964d-2895bc44328f",
   "metadata": {},
   "source": [
    "I valori di questa feature sono distribuiti abbastanza bene, ovviamente scarseggiano auto con molti proprietari perchè poco piazziabili sul mercato"
   ]
  },
  {
   "cell_type": "markdown",
   "id": "cca4d86c-84c5-42ea-88a8-fcb24ddef3f0",
   "metadata": {},
   "source": [
    "### fuel"
   ]
  },
  {
   "cell_type": "code",
   "execution_count": 54,
   "id": "9f9a3ffc-98b4-4e6e-88e1-405abe4aed89",
   "metadata": {},
   "outputs": [
    {
     "data": {
      "text/plain": [
       "fuel\n",
       "Petrol                   961\n",
       "Diesel                   437\n",
       "Petrol Hybrid             29\n",
       "Petrol Plug-in Hybrid     23\n",
       "Diesel Hybrid              1\n",
       "Name: count, dtype: int64"
      ]
     },
     "execution_count": 54,
     "metadata": {},
     "output_type": "execute_result"
    }
   ],
   "source": [
    "used_cars[\"fuel\"].value_counts()"
   ]
  },
  {
   "cell_type": "markdown",
   "id": "72b836fa-60e7-4dcd-9430-610ef12505ff",
   "metadata": {},
   "source": [
    "C'è una predominanza di auto a disel e benzina, scarseggiano gli altri tipo di carburanti essendo più nuovi"
   ]
  },
  {
   "cell_type": "markdown",
   "id": "3652bafc-52c2-4c20-9dfb-03ffa803b197",
   "metadata": {},
   "source": [
    "### Body"
   ]
  },
  {
   "cell_type": "code",
   "execution_count": 59,
   "id": "44854ccd-79ce-4422-9ea3-e1bbee419a52",
   "metadata": {},
   "outputs": [
    {
     "data": {
      "text/plain": [
       "body\n",
       "Hatchback      1091\n",
       "Saloon          102\n",
       "SUV              97\n",
       "Estate           78\n",
       "Coupe            45\n",
       "MPV              25\n",
       "Convertible      13\n",
       "Name: count, dtype: int64"
      ]
     },
     "execution_count": 59,
     "metadata": {},
     "output_type": "execute_result"
    }
   ],
   "source": [
    "used_cars[\"body\"].value_counts()"
   ]
  },
  {
   "cell_type": "markdown",
   "id": "5baf467e-5822-447b-9ee9-8d95bb53aa44",
   "metadata": {},
   "source": [
    "I tipi di auto più comuni sono le berline a seguire i suv anche se notevolmente di meno"
   ]
  },
  {
   "cell_type": "markdown",
   "id": "96824535-d571-4dc8-a021-f1105450bbd1",
   "metadata": {},
   "source": [
    "### engine"
   ]
  },
  {
   "cell_type": "markdown",
   "id": "5284443a-4a87-47d1-ba0c-ec6785c19fed",
   "metadata": {},
   "source": [
    "Questa feature indica la cilindrata espressa in Litri"
   ]
  },
  {
   "cell_type": "markdown",
   "id": "49ce3965-26d4-46ec-a7e6-8485047b5183",
   "metadata": {},
   "source": [
    "Renderemo questa variabile numerica togliendo la L perchè superflua."
   ]
  },
  {
   "cell_type": "code",
   "execution_count": 65,
   "id": "7442b0f8-885f-47e0-8bd7-c9803d62796e",
   "metadata": {},
   "outputs": [
    {
     "data": {
      "text/plain": [
       "array(['1.4L', '1.2L', '1.6L', '1.8L', '2.0L', '1.3L', '1.9L', '1.5L',\n",
       "       '2.2L', '3.0L', '1.0L', '2.4L', '2.1L', '2.5L', '3.5L', '2.3L',\n",
       "       '0.9L', '1.7L', '5.0L', '1.1L'], dtype=object)"
      ]
     },
     "execution_count": 65,
     "metadata": {},
     "output_type": "execute_result"
    }
   ],
   "source": [
    "used_cars[\"engine\"].unique()"
   ]
  },
  {
   "cell_type": "code",
   "execution_count": 66,
   "id": "a09f2d3a-7a58-460e-9096-4689835a47d5",
   "metadata": {},
   "outputs": [],
   "source": [
    "for index, row in used_cars.iterrows():\n",
    "    engine = used_cars.loc[index, \"engine\"]\n",
    "    used_cars.loc[index,\"engine\"] = np.float64(engine[:-1])"
   ]
  },
  {
   "cell_type": "markdown",
   "id": "b913658e-f7f5-4a8b-9aff-5da4453750a9",
   "metadata": {},
   "source": [
    "### gearbox"
   ]
  },
  {
   "cell_type": "code",
   "execution_count": 71,
   "id": "3a6a6335-53b7-4e48-ba91-35c468478f46",
   "metadata": {},
   "outputs": [
    {
     "data": {
      "image/png": "[encoded data removed]",
      "text/plain": [
       "<Figure size 640x480 with 1 Axes>"
      ]
     },
     "metadata": {},
     "output_type": "display_data"
    }
   ],
   "source": [
    "\n",
    "plt.pie(used_cars[\"gearbox\"].value_counts(), labels=[\"Manual\", \"Automatic\"]);"
   ]
  },
  {
   "cell_type": "markdown",
   "id": "8f03f704-3315-4c75-b05c-e593450c2198",
   "metadata": {},
   "source": [
    "Abbiamo una prevalenza di auto Manuali"
   ]
  },
  {
   "cell_type": "markdown",
   "id": "a38c15d3-603f-4ad3-9dab-76d3184079e2",
   "metadata": {},
   "source": [
    "### emission_class"
   ]
  },
  {
   "cell_type": "code",
   "execution_count": 74,
   "id": "e39c2d55-dd8f-4565-82b9-52d6e8db59e4",
   "metadata": {},
   "outputs": [
    {
     "data": {
      "text/plain": [
       "emission_class\n",
       "Euro 5    526\n",
       "Euro 6    500\n",
       "Euro 4    388\n",
       "Euro 3     33\n",
       "Euro 2      3\n",
       "Euro 1      1\n",
       "Name: count, dtype: int64"
      ]
     },
     "execution_count": 74,
     "metadata": {},
     "output_type": "execute_result"
    }
   ],
   "source": [
    "used_cars[\"emission_class\"].value_counts()"
   ]
  },
  {
   "cell_type": "markdown",
   "id": "dc248f12-d0e6-4c72-b616-d98dd945cba9",
   "metadata": {},
   "source": [
    "Da questi dati si nota che c'è una predominanza di auto abbastanza nuove e poche auto vecchie (euro 3,2,1)"
   ]
  },
  {
   "cell_type": "markdown",
   "id": "0fe8267b-7db2-4f5f-80fe-7b4d3c61ef2f",
   "metadata": {},
   "source": [
    "Andiamo inoltre ad eliminare la scritta Euro, perchè superflua. Inoltre la rendiamo una variabile numerica e non più categorica"
   ]
  },
  {
   "cell_type": "code",
   "execution_count": 79,
   "id": "ff9d389b-438a-4368-9756-285cdd006261",
   "metadata": {},
   "outputs": [
    {
     "data": {
      "text/html": [
       "<div>\n",
       "<style scoped>\n",
       "    .dataframe tbody tr th:only-of-type {\n",
       "        vertical-align: middle;\n",
       "    }\n",
       "\n",
       "    .dataframe tbody tr th {\n",
       "        vertical-align: top;\n",
       "    }\n",
       "\n",
       "    .dataframe thead th {\n",
       "        text-align: right;\n",
       "    }\n",
       "</style>\n",
       "<table border=\"1\" class=\"dataframe\">\n",
       "  <thead>\n",
       "    <tr style=\"text-align: right;\">\n",
       "      <th></th>\n",
       "      <th>make</th>\n",
       "      <th>price</th>\n",
       "      <th>mileage</th>\n",
       "      <th>registration_year</th>\n",
       "      <th>previous_owners</th>\n",
       "      <th>fuel</th>\n",
       "      <th>body</th>\n",
       "      <th>engine</th>\n",
       "      <th>gearbox</th>\n",
       "      <th>doors</th>\n",
       "      <th>seats</th>\n",
       "      <th>emission_class</th>\n",
       "      <th>model</th>\n",
       "    </tr>\n",
       "  </thead>\n",
       "  <tbody>\n",
       "    <tr>\n",
       "      <th>0</th>\n",
       "      <td>SKODA</td>\n",
       "      <td>6900</td>\n",
       "      <td>70189</td>\n",
       "      <td>2016</td>\n",
       "      <td>3.0</td>\n",
       "      <td>Diesel</td>\n",
       "      <td>Hatchback</td>\n",
       "      <td>1.4</td>\n",
       "      <td>Manual</td>\n",
       "      <td>5.0</td>\n",
       "      <td>5.0</td>\n",
       "      <td>6</td>\n",
       "      <td>Fabia</td>\n",
       "    </tr>\n",
       "    <tr>\n",
       "      <th>1</th>\n",
       "      <td>Vauxhall</td>\n",
       "      <td>1495</td>\n",
       "      <td>88585</td>\n",
       "      <td>2008</td>\n",
       "      <td>4.0</td>\n",
       "      <td>Petrol</td>\n",
       "      <td>Hatchback</td>\n",
       "      <td>1.2</td>\n",
       "      <td>Manual</td>\n",
       "      <td>3.0</td>\n",
       "      <td>5.0</td>\n",
       "      <td>4</td>\n",
       "      <td>Corsa</td>\n",
       "    </tr>\n",
       "    <tr>\n",
       "      <th>3</th>\n",
       "      <td>MINI</td>\n",
       "      <td>2395</td>\n",
       "      <td>96731</td>\n",
       "      <td>2010</td>\n",
       "      <td>5.0</td>\n",
       "      <td>Petrol</td>\n",
       "      <td>Hatchback</td>\n",
       "      <td>1.4</td>\n",
       "      <td>Manual</td>\n",
       "      <td>3.0</td>\n",
       "      <td>4.0</td>\n",
       "      <td>4</td>\n",
       "      <td>Hatch</td>\n",
       "    </tr>\n",
       "    <tr>\n",
       "      <th>9</th>\n",
       "      <td>Peugeot</td>\n",
       "      <td>1299</td>\n",
       "      <td>87000</td>\n",
       "      <td>2008</td>\n",
       "      <td>5.0</td>\n",
       "      <td>Diesel</td>\n",
       "      <td>Hatchback</td>\n",
       "      <td>1.6</td>\n",
       "      <td>Manual</td>\n",
       "      <td>5.0</td>\n",
       "      <td>5.0</td>\n",
       "      <td>4</td>\n",
       "      <td>207</td>\n",
       "    </tr>\n",
       "    <tr>\n",
       "      <th>11</th>\n",
       "      <td>Vauxhall</td>\n",
       "      <td>2950</td>\n",
       "      <td>79000</td>\n",
       "      <td>2011</td>\n",
       "      <td>4.0</td>\n",
       "      <td>Petrol</td>\n",
       "      <td>Hatchback</td>\n",
       "      <td>1.8</td>\n",
       "      <td>Manual</td>\n",
       "      <td>5.0</td>\n",
       "      <td>5.0</td>\n",
       "      <td>5</td>\n",
       "      <td>Insignia</td>\n",
       "    </tr>\n",
       "    <tr>\n",
       "      <th>...</th>\n",
       "      <td>...</td>\n",
       "      <td>...</td>\n",
       "      <td>...</td>\n",
       "      <td>...</td>\n",
       "      <td>...</td>\n",
       "      <td>...</td>\n",
       "      <td>...</td>\n",
       "      <td>...</td>\n",
       "      <td>...</td>\n",
       "      <td>...</td>\n",
       "      <td>...</td>\n",
       "      <td>...</td>\n",
       "      <td>...</td>\n",
       "    </tr>\n",
       "    <tr>\n",
       "      <th>4715</th>\n",
       "      <td>Vauxhall</td>\n",
       "      <td>4999</td>\n",
       "      <td>60139</td>\n",
       "      <td>2015</td>\n",
       "      <td>2.0</td>\n",
       "      <td>Petrol</td>\n",
       "      <td>Hatchback</td>\n",
       "      <td>1.6</td>\n",
       "      <td>Manual</td>\n",
       "      <td>5.0</td>\n",
       "      <td>5.0</td>\n",
       "      <td>6</td>\n",
       "      <td>Astra</td>\n",
       "    </tr>\n",
       "    <tr>\n",
       "      <th>4717</th>\n",
       "      <td>Vauxhall</td>\n",
       "      <td>4999</td>\n",
       "      <td>60139</td>\n",
       "      <td>2015</td>\n",
       "      <td>2.0</td>\n",
       "      <td>Petrol</td>\n",
       "      <td>Hatchback</td>\n",
       "      <td>1.6</td>\n",
       "      <td>Manual</td>\n",
       "      <td>5.0</td>\n",
       "      <td>5.0</td>\n",
       "      <td>6</td>\n",
       "      <td>Astra</td>\n",
       "    </tr>\n",
       "    <tr>\n",
       "      <th>4722</th>\n",
       "      <td>Nissan</td>\n",
       "      <td>1695</td>\n",
       "      <td>104000</td>\n",
       "      <td>2009</td>\n",
       "      <td>3.0</td>\n",
       "      <td>Petrol</td>\n",
       "      <td>Hatchback</td>\n",
       "      <td>1.6</td>\n",
       "      <td>Manual</td>\n",
       "      <td>5.0</td>\n",
       "      <td>5.0</td>\n",
       "      <td>4</td>\n",
       "      <td>Qashqai</td>\n",
       "    </tr>\n",
       "    <tr>\n",
       "      <th>4723</th>\n",
       "      <td>Renault</td>\n",
       "      <td>1395</td>\n",
       "      <td>76202</td>\n",
       "      <td>2006</td>\n",
       "      <td>4.0</td>\n",
       "      <td>Petrol</td>\n",
       "      <td>Hatchback</td>\n",
       "      <td>1.6</td>\n",
       "      <td>Manual</td>\n",
       "      <td>5.0</td>\n",
       "      <td>5.0</td>\n",
       "      <td>4</td>\n",
       "      <td>Megane</td>\n",
       "    </tr>\n",
       "    <tr>\n",
       "      <th>4727</th>\n",
       "      <td>Vauxhall</td>\n",
       "      <td>2000</td>\n",
       "      <td>82160</td>\n",
       "      <td>2013</td>\n",
       "      <td>7.0</td>\n",
       "      <td>Petrol</td>\n",
       "      <td>Hatchback</td>\n",
       "      <td>1.2</td>\n",
       "      <td>Manual</td>\n",
       "      <td>5.0</td>\n",
       "      <td>5.0</td>\n",
       "      <td>5</td>\n",
       "      <td>Corsa</td>\n",
       "    </tr>\n",
       "  </tbody>\n",
       "</table>\n",
       "<p>1451 rows × 13 columns</p>\n",
       "</div>"
      ],
      "text/plain": [
       "          make  price  mileage  registration_year  previous_owners    fuel  \\\n",
       "0        SKODA   6900    70189               2016              3.0  Diesel   \n",
       "1     Vauxhall   1495    88585               2008              4.0  Petrol   \n",
       "3         MINI   2395    96731               2010              5.0  Petrol   \n",
       "9      Peugeot   1299    87000               2008              5.0  Diesel   \n",
       "11    Vauxhall   2950    79000               2011              4.0  Petrol   \n",
       "...        ...    ...      ...                ...              ...     ...   \n",
       "4715  Vauxhall   4999    60139               2015              2.0  Petrol   \n",
       "4717  Vauxhall   4999    60139               2015              2.0  Petrol   \n",
       "4722    Nissan   1695   104000               2009              3.0  Petrol   \n",
       "4723   Renault   1395    76202               2006              4.0  Petrol   \n",
       "4727  Vauxhall   2000    82160               2013              7.0  Petrol   \n",
       "\n",
       "           body engine gearbox  doors  seats emission_class     model  \n",
       "0     Hatchback    1.4  Manual    5.0    5.0              6     Fabia  \n",
       "1     Hatchback    1.2  Manual    3.0    5.0              4     Corsa  \n",
       "3     Hatchback    1.4  Manual    3.0    4.0              4     Hatch  \n",
       "9     Hatchback    1.6  Manual    5.0    5.0              4       207  \n",
       "11    Hatchback    1.8  Manual    5.0    5.0              5  Insignia  \n",
       "...         ...    ...     ...    ...    ...            ...       ...  \n",
       "4715  Hatchback    1.6  Manual    5.0    5.0              6     Astra  \n",
       "4717  Hatchback    1.6  Manual    5.0    5.0              6     Astra  \n",
       "4722  Hatchback    1.6  Manual    5.0    5.0              4   Qashqai  \n",
       "4723  Hatchback    1.6  Manual    5.0    5.0              4    Megane  \n",
       "4727  Hatchback    1.2  Manual    5.0    5.0              5     Corsa  \n",
       "\n",
       "[1451 rows x 13 columns]"
      ]
     },
     "execution_count": 79,
     "metadata": {},
     "output_type": "execute_result"
    }
   ],
   "source": [
    "for index, row in used_cars.iterrows():\n",
    "    emissionClass = used_cars.loc[index,\"emission_class\"]\n",
    "    used_cars.loc[index,\"emission_class\"] = np.int64(emissionClass[-1])\n",
    "used_cars"
   ]
  },
  {
   "cell_type": "markdown",
   "id": "f51a7add-4c24-440c-8969-b921b90ac6d6",
   "metadata": {},
   "source": [
    "### Dataset finale"
   ]
  },
  {
   "cell_type": "markdown",
   "id": "927a17e0-e37d-40f4-a7e6-208122e6fb91",
   "metadata": {},
   "source": [
    "La dimensione del dataset si è ridotta notevolmente causa dell'eliminazione delle marche e modelli poco presenti, e pulizia generale di righe con dati nulli in alcune feature(maggiormente nella feature dei proprietari precedenti)"
   ]
  },
  {
   "cell_type": "code",
   "execution_count": 84,
   "id": "bba3d28c-6007-4a7d-8f32-ba02060a7b90",
   "metadata": {},
   "outputs": [
    {
     "data": {
      "text/html": [
       "<div>\n",
       "<style scoped>\n",
       "    .dataframe tbody tr th:only-of-type {\n",
       "        vertical-align: middle;\n",
       "    }\n",
       "\n",
       "    .dataframe tbody tr th {\n",
       "        vertical-align: top;\n",
       "    }\n",
       "\n",
       "    .dataframe thead th {\n",
       "        text-align: right;\n",
       "    }\n",
       "</style>\n",
       "<table border=\"1\" class=\"dataframe\">\n",
       "  <thead>\n",
       "    <tr style=\"text-align: right;\">\n",
       "      <th></th>\n",
       "      <th>make</th>\n",
       "      <th>price</th>\n",
       "      <th>mileage</th>\n",
       "      <th>registration_year</th>\n",
       "      <th>previous_owners</th>\n",
       "      <th>fuel</th>\n",
       "      <th>body</th>\n",
       "      <th>engine</th>\n",
       "      <th>gearbox</th>\n",
       "      <th>doors</th>\n",
       "      <th>seats</th>\n",
       "      <th>emission_class</th>\n",
       "      <th>model</th>\n",
       "    </tr>\n",
       "  </thead>\n",
       "  <tbody>\n",
       "    <tr>\n",
       "      <th>0</th>\n",
       "      <td>SKODA</td>\n",
       "      <td>6900</td>\n",
       "      <td>70189</td>\n",
       "      <td>2016</td>\n",
       "      <td>3.0</td>\n",
       "      <td>Diesel</td>\n",
       "      <td>Hatchback</td>\n",
       "      <td>1.4</td>\n",
       "      <td>Manual</td>\n",
       "      <td>5.0</td>\n",
       "      <td>5.0</td>\n",
       "      <td>6</td>\n",
       "      <td>Fabia</td>\n",
       "    </tr>\n",
       "    <tr>\n",
       "      <th>1</th>\n",
       "      <td>Vauxhall</td>\n",
       "      <td>1495</td>\n",
       "      <td>88585</td>\n",
       "      <td>2008</td>\n",
       "      <td>4.0</td>\n",
       "      <td>Petrol</td>\n",
       "      <td>Hatchback</td>\n",
       "      <td>1.2</td>\n",
       "      <td>Manual</td>\n",
       "      <td>3.0</td>\n",
       "      <td>5.0</td>\n",
       "      <td>4</td>\n",
       "      <td>Corsa</td>\n",
       "    </tr>\n",
       "    <tr>\n",
       "      <th>3</th>\n",
       "      <td>MINI</td>\n",
       "      <td>2395</td>\n",
       "      <td>96731</td>\n",
       "      <td>2010</td>\n",
       "      <td>5.0</td>\n",
       "      <td>Petrol</td>\n",
       "      <td>Hatchback</td>\n",
       "      <td>1.4</td>\n",
       "      <td>Manual</td>\n",
       "      <td>3.0</td>\n",
       "      <td>4.0</td>\n",
       "      <td>4</td>\n",
       "      <td>Hatch</td>\n",
       "    </tr>\n",
       "    <tr>\n",
       "      <th>9</th>\n",
       "      <td>Peugeot</td>\n",
       "      <td>1299</td>\n",
       "      <td>87000</td>\n",
       "      <td>2008</td>\n",
       "      <td>5.0</td>\n",
       "      <td>Diesel</td>\n",
       "      <td>Hatchback</td>\n",
       "      <td>1.6</td>\n",
       "      <td>Manual</td>\n",
       "      <td>5.0</td>\n",
       "      <td>5.0</td>\n",
       "      <td>4</td>\n",
       "      <td>207</td>\n",
       "    </tr>\n",
       "    <tr>\n",
       "      <th>11</th>\n",
       "      <td>Vauxhall</td>\n",
       "      <td>2950</td>\n",
       "      <td>79000</td>\n",
       "      <td>2011</td>\n",
       "      <td>4.0</td>\n",
       "      <td>Petrol</td>\n",
       "      <td>Hatchback</td>\n",
       "      <td>1.8</td>\n",
       "      <td>Manual</td>\n",
       "      <td>5.0</td>\n",
       "      <td>5.0</td>\n",
       "      <td>5</td>\n",
       "      <td>Insignia</td>\n",
       "    </tr>\n",
       "    <tr>\n",
       "      <th>...</th>\n",
       "      <td>...</td>\n",
       "      <td>...</td>\n",
       "      <td>...</td>\n",
       "      <td>...</td>\n",
       "      <td>...</td>\n",
       "      <td>...</td>\n",
       "      <td>...</td>\n",
       "      <td>...</td>\n",
       "      <td>...</td>\n",
       "      <td>...</td>\n",
       "      <td>...</td>\n",
       "      <td>...</td>\n",
       "      <td>...</td>\n",
       "    </tr>\n",
       "    <tr>\n",
       "      <th>4715</th>\n",
       "      <td>Vauxhall</td>\n",
       "      <td>4999</td>\n",
       "      <td>60139</td>\n",
       "      <td>2015</td>\n",
       "      <td>2.0</td>\n",
       "      <td>Petrol</td>\n",
       "      <td>Hatchback</td>\n",
       "      <td>1.6</td>\n",
       "      <td>Manual</td>\n",
       "      <td>5.0</td>\n",
       "      <td>5.0</td>\n",
       "      <td>6</td>\n",
       "      <td>Astra</td>\n",
       "    </tr>\n",
       "    <tr>\n",
       "      <th>4717</th>\n",
       "      <td>Vauxhall</td>\n",
       "      <td>4999</td>\n",
       "      <td>60139</td>\n",
       "      <td>2015</td>\n",
       "      <td>2.0</td>\n",
       "      <td>Petrol</td>\n",
       "      <td>Hatchback</td>\n",
       "      <td>1.6</td>\n",
       "      <td>Manual</td>\n",
       "      <td>5.0</td>\n",
       "      <td>5.0</td>\n",
       "      <td>6</td>\n",
       "      <td>Astra</td>\n",
       "    </tr>\n",
       "    <tr>\n",
       "      <th>4722</th>\n",
       "      <td>Nissan</td>\n",
       "      <td>1695</td>\n",
       "      <td>104000</td>\n",
       "      <td>2009</td>\n",
       "      <td>3.0</td>\n",
       "      <td>Petrol</td>\n",
       "      <td>Hatchback</td>\n",
       "      <td>1.6</td>\n",
       "      <td>Manual</td>\n",
       "      <td>5.0</td>\n",
       "      <td>5.0</td>\n",
       "      <td>4</td>\n",
       "      <td>Qashqai</td>\n",
       "    </tr>\n",
       "    <tr>\n",
       "      <th>4723</th>\n",
       "      <td>Renault</td>\n",
       "      <td>1395</td>\n",
       "      <td>76202</td>\n",
       "      <td>2006</td>\n",
       "      <td>4.0</td>\n",
       "      <td>Petrol</td>\n",
       "      <td>Hatchback</td>\n",
       "      <td>1.6</td>\n",
       "      <td>Manual</td>\n",
       "      <td>5.0</td>\n",
       "      <td>5.0</td>\n",
       "      <td>4</td>\n",
       "      <td>Megane</td>\n",
       "    </tr>\n",
       "    <tr>\n",
       "      <th>4727</th>\n",
       "      <td>Vauxhall</td>\n",
       "      <td>2000</td>\n",
       "      <td>82160</td>\n",
       "      <td>2013</td>\n",
       "      <td>7.0</td>\n",
       "      <td>Petrol</td>\n",
       "      <td>Hatchback</td>\n",
       "      <td>1.2</td>\n",
       "      <td>Manual</td>\n",
       "      <td>5.0</td>\n",
       "      <td>5.0</td>\n",
       "      <td>5</td>\n",
       "      <td>Corsa</td>\n",
       "    </tr>\n",
       "  </tbody>\n",
       "</table>\n",
       "<p>1451 rows × 13 columns</p>\n",
       "</div>"
      ],
      "text/plain": [
       "          make  price  mileage  registration_year  previous_owners    fuel  \\\n",
       "0        SKODA   6900    70189               2016              3.0  Diesel   \n",
       "1     Vauxhall   1495    88585               2008              4.0  Petrol   \n",
       "3         MINI   2395    96731               2010              5.0  Petrol   \n",
       "9      Peugeot   1299    87000               2008              5.0  Diesel   \n",
       "11    Vauxhall   2950    79000               2011              4.0  Petrol   \n",
       "...        ...    ...      ...                ...              ...     ...   \n",
       "4715  Vauxhall   4999    60139               2015              2.0  Petrol   \n",
       "4717  Vauxhall   4999    60139               2015              2.0  Petrol   \n",
       "4722    Nissan   1695   104000               2009              3.0  Petrol   \n",
       "4723   Renault   1395    76202               2006              4.0  Petrol   \n",
       "4727  Vauxhall   2000    82160               2013              7.0  Petrol   \n",
       "\n",
       "           body engine gearbox  doors  seats emission_class     model  \n",
       "0     Hatchback    1.4  Manual    5.0    5.0              6     Fabia  \n",
       "1     Hatchback    1.2  Manual    3.0    5.0              4     Corsa  \n",
       "3     Hatchback    1.4  Manual    3.0    4.0              4     Hatch  \n",
       "9     Hatchback    1.6  Manual    5.0    5.0              4       207  \n",
       "11    Hatchback    1.8  Manual    5.0    5.0              5  Insignia  \n",
       "...         ...    ...     ...    ...    ...            ...       ...  \n",
       "4715  Hatchback    1.6  Manual    5.0    5.0              6     Astra  \n",
       "4717  Hatchback    1.6  Manual    5.0    5.0              6     Astra  \n",
       "4722  Hatchback    1.6  Manual    5.0    5.0              4   Qashqai  \n",
       "4723  Hatchback    1.6  Manual    5.0    5.0              4    Megane  \n",
       "4727  Hatchback    1.2  Manual    5.0    5.0              5     Corsa  \n",
       "\n",
       "[1451 rows x 13 columns]"
      ]
     },
     "execution_count": 84,
     "metadata": {},
     "output_type": "execute_result"
    }
   ],
   "source": [
    "used_cars"
   ]
  },
  {
   "cell_type": "markdown",
   "id": "5a14332a-86cd-4d43-9fad-925c3f61a7dd",
   "metadata": {},
   "source": [
    "Tutte queste operazioni possono essere effettuate in unico for, decommentando il seguente codice"
   ]
  },
  {
   "cell_type": "code",
   "execution_count": 86,
   "id": "472ebd48-1afb-4eda-97ae-4c86f171d9a5",
   "metadata": {},
   "outputs": [],
   "source": [
    "\n",
    "#for index, row in used_cars.iterrows():\n",
    "#    title = used_cars.loc[index,\"title\"]\n",
    "#    s = split(title)\n",
    "#    used_cars.loc[index,\"title\"] = title[:s]\n",
    "#    used_cars.loc[index,\"model\"] = title[s+1:]\n",
    "#    engine = used_cars.loc[index, \"Engine\"]\n",
    "#    used_cars.loc[index,\"Engine\"] = np.float64(engine[:-1])\n",
    "#    emissionClass = used_cars.loc[index,\"Emission Class\"]\n",
    "#    used_cars.loc[index,\"Emission Class\"] = np.int64(emissionClass)\n",
    "#    used_cars.loc[index,\"Emission Class\"] = np.int64(emissionClass[-1])\n",
    "#used_cars\n"
   ]
  },
  {
   "cell_type": "markdown",
   "id": "c41191b7-efa8-4326-8dcd-09ca4bc3a83c",
   "metadata": {},
   "source": [
    "## Preparazione dei Dati"
   ]
  },
  {
   "cell_type": "markdown",
   "id": "f671583c-7c07-412c-8e49-2c6abeaa2cc6",
   "metadata": {},
   "source": [
    "### Suddivisione Variabili"
   ]
  },
  {
   "cell_type": "markdown",
   "id": "4942f44a-ea04-4b46-b3f2-82a7e1bcb0c8",
   "metadata": {},
   "source": [
    "Inizio isolando la variabile target, che in questo caso è il prezzo"
   ]
  },
  {
   "cell_type": "code",
   "execution_count": 92,
   "id": "0220a470-29d7-411f-964d-b10e393f3fdd",
   "metadata": {},
   "outputs": [],
   "source": [
    "y = used_cars[\"price\"]\n",
    "X = used_cars.drop(columns=\"price\")"
   ]
  },
  {
   "cell_type": "markdown",
   "id": "b37aca06-0e3a-4175-86a1-6bbe26da0cdd",
   "metadata": {},
   "source": [
    "### Individuazione Variabili"
   ]
  },
  {
   "cell_type": "markdown",
   "id": "f698908e-4c8e-452d-bf1f-dc789edbb4d0",
   "metadata": {},
   "source": [
    "Procedo, individuando le varabili categoriche e quelle numeriche, questo servirà in seguito per le operazioni di preprocessing"
   ]
  },
  {
   "cell_type": "code",
   "execution_count": 95,
   "id": "56007e5f-5ad1-4eb4-be37-8b7087219e01",
   "metadata": {},
   "outputs": [
    {
     "data": {
      "text/html": [
       "<div>\n",
       "<style scoped>\n",
       "    .dataframe tbody tr th:only-of-type {\n",
       "        vertical-align: middle;\n",
       "    }\n",
       "\n",
       "    .dataframe tbody tr th {\n",
       "        vertical-align: top;\n",
       "    }\n",
       "\n",
       "    .dataframe thead th {\n",
       "        text-align: right;\n",
       "    }\n",
       "</style>\n",
       "<table border=\"1\" class=\"dataframe\">\n",
       "  <thead>\n",
       "    <tr style=\"text-align: right;\">\n",
       "      <th></th>\n",
       "      <th>make</th>\n",
       "      <th>price</th>\n",
       "      <th>mileage</th>\n",
       "      <th>registration_year</th>\n",
       "      <th>previous_owners</th>\n",
       "      <th>fuel</th>\n",
       "      <th>body</th>\n",
       "      <th>engine</th>\n",
       "      <th>gearbox</th>\n",
       "      <th>doors</th>\n",
       "      <th>seats</th>\n",
       "      <th>emission_class</th>\n",
       "      <th>model</th>\n",
       "    </tr>\n",
       "  </thead>\n",
       "  <tbody>\n",
       "    <tr>\n",
       "      <th>0</th>\n",
       "      <td>SKODA</td>\n",
       "      <td>6900</td>\n",
       "      <td>70189</td>\n",
       "      <td>2016</td>\n",
       "      <td>3.0</td>\n",
       "      <td>Diesel</td>\n",
       "      <td>Hatchback</td>\n",
       "      <td>1.4</td>\n",
       "      <td>Manual</td>\n",
       "      <td>5.0</td>\n",
       "      <td>5.0</td>\n",
       "      <td>6</td>\n",
       "      <td>Fabia</td>\n",
       "    </tr>\n",
       "  </tbody>\n",
       "</table>\n",
       "</div>"
      ],
      "text/plain": [
       "    make  price  mileage  registration_year  previous_owners    fuel  \\\n",
       "0  SKODA   6900    70189               2016              3.0  Diesel   \n",
       "\n",
       "        body engine gearbox  doors  seats emission_class  model  \n",
       "0  Hatchback    1.4  Manual    5.0    5.0              6  Fabia  "
      ]
     },
     "execution_count": 95,
     "metadata": {},
     "output_type": "execute_result"
    }
   ],
   "source": [
    "used_cars.head(1)"
   ]
  },
  {
   "cell_type": "code",
   "execution_count": 96,
   "id": "c0dd9c12-fd6a-4e9e-83f4-c5ccdf5121e6",
   "metadata": {},
   "outputs": [],
   "source": [
    "numeric_vars = [\"mileage\", \"registration_year\", \"previous_owners\", \"engine\", \"doors\", \"seats\", \"emission_class\"]\n",
    "categorical_vars = [\"make\", \"fuel\", \"body\", \"gearbox\", \"model\" ]\n",
    "for cat in categorical_vars :\n",
    "    used_cars[cat] = used_cars[cat].astype(\"category\")"
   ]
  },
  {
   "cell_type": "markdown",
   "id": "56d10c89-ee03-49d7-a131-05b8c87f126d",
   "metadata": {},
   "source": [
    "### Operazioni di Preprocessing"
   ]
  },
  {
   "cell_type": "markdown",
   "id": "b1cd924a-1926-4862-912f-89e40bf92453",
   "metadata": {},
   "source": [
    "Nella cella di addestramento dei vari modelli andrò ad eseguire una Standardizzazione per le varabili numeriche e un One-Hot encoding per le variabili categoriche"
   ]
  },
  {
   "cell_type": "markdown",
   "id": "4e8c56cf-1d8a-4edb-8c88-2a16e74d689f",
   "metadata": {},
   "source": [
    "Il procedimento lo metterò direttamente in Pipeline"
   ]
  },
  {
   "cell_type": "markdown",
   "id": "b65e7363-9469-4fa4-a099-4089903bded3",
   "metadata": {},
   "source": [
    "### Suddivisione Dati"
   ]
  },
  {
   "cell_type": "markdown",
   "id": "4d29c8d3-6fa7-478a-b370-1964075ea47f",
   "metadata": {},
   "source": [
    "Eseguirò una divisione classica 70/30, successivamente eseguirò una suddivisione più approfondita usato la nested cross validation "
   ]
  },
  {
   "cell_type": "code",
   "execution_count": 103,
   "id": "034c31ac-ca35-4b2b-89a3-4d99a587cbed",
   "metadata": {},
   "outputs": [],
   "source": [
    "from sklearn.model_selection import train_test_split\n",
    "X_train, X_val, y_train, y_val = \\\n",
    "    train_test_split(X, y, test_size=1/3, random_state=42)"
   ]
  },
  {
   "cell_type": "markdown",
   "id": "195287c9-f8f9-43a6-a1b0-ab5dff879e15",
   "metadata": {},
   "source": [
    "## Addestrare e validare"
   ]
  },
  {
   "cell_type": "markdown",
   "id": "6866c8f0-d0a7-40c8-ba5f-97b8883ccced",
   "metadata": {},
   "source": [
    "Nelle celle successive eseguirò 4 addrestramenti con i seguenti medodi :\n",
    "- `Regressione Lineare`\n",
    "- `Regressione Ridge`\n",
    "- `Regressione Lasso`\n",
    "- `Regressione Elastic Net`"
   ]
  },
  {
   "cell_type": "markdown",
   "id": "67ea7328-031c-4b57-abf2-77162ddd3f52",
   "metadata": {},
   "source": [
    "### Utils"
   ]
  },
  {
   "cell_type": "markdown",
   "id": "18abe3a0-303d-4fac-ae46-a348fc203228",
   "metadata": {},
   "source": [
    "Nella cella seguente è presente una funzione che permetterà di stampare, tutte le metriche di valutazione, che ci serviranno successivamente per valutare e confrontare i vari modelli"
   ]
  },
  {
   "cell_type": "markdown",
   "id": "b11b2ca3-f019-4e8b-8e60-26542b90a1c0",
   "metadata": {},
   "source": [
    "Stamperà i segueti dati:\n",
    "- `MSE` : è la media dei quadrati delle differenze tra ciascun valore reale e il valore predetto dal modello\n",
    "- `Erorre relativo` : misura di quanto il modello si sbaglia in percentuale rispetto al valore reale.\n",
    "- `Coefficiente di determinazione R^2` è una misura che esprime intuitivamente quanto il modello catturi la variabilità presente nei dati, il suo valore è compreso tra 1 (il modello descrive perfettamente i dati) e 0 (nessuna correlazione tra il modello e i dati)"
   ]
  },
  {
   "cell_type": "code",
   "execution_count": 111,
   "id": "50d63ebc-32d0-49c6-9770-ad607324b0dc",
   "metadata": {},
   "outputs": [],
   "source": [
    "from sklearn.metrics import mean_squared_error, mean_absolute_percentage_error, r2_score\n",
    "\n",
    "def print_eval(X, y, model):\n",
    "    preds = model.predict(X)\n",
    "    mse = mean_squared_error(y, preds)\n",
    "    re = mean_absolute_percentage_error(y, preds)\n",
    "    r2 = r2_score(y, preds)\n",
    "    print(f\"Mean squared error: {mse:.5}\")\n",
    "    print(f\"Relative error: {re:.5%}\")\n",
    "    print(f\"R-squared coefficient: {r2:.5}\")"
   ]
  },
  {
   "cell_type": "markdown",
   "id": "511eb46c-a95c-45e1-9812-8946275767f6",
   "metadata": {},
   "source": [
    "### Import"
   ]
  },
  {
   "cell_type": "markdown",
   "id": "d8e088f0-4d3d-4cad-a9fc-18c0a97d0dcb",
   "metadata": {},
   "source": [
    "Procedo importando tutte le funzioni e librerie che userò per addestrare e validare il modello"
   ]
  },
  {
   "cell_type": "markdown",
   "id": "844fea38-28ed-437d-aa72-1bc7bb1ee57f",
   "metadata": {},
   "source": [
    "#### Preprocessing"
   ]
  },
  {
   "cell_type": "markdown",
   "id": "37f0ce22-0568-43f3-896f-2da111a65dab",
   "metadata": {},
   "source": [
    "- `ColumnTransformer` : si tratta di un filtro composito, al suo interno verranno inseriti il filtro per la standardizazione delle varabili numeriche, e il filtro per eseguire il One-Hot encoding\n",
    "- `StandardScaler` : verrà utilizzato per standardizzare le variabili numeriche, è utile per evitare che feature con valori alti, \"sovrastino\" quelle con valori bassi\n",
    "- `OneHotEncoder` : serve per poter utilizzare le variabili categoriche all'interno del modello"
   ]
  },
  {
   "cell_type": "code",
   "execution_count": 116,
   "id": "c5da65a0-2ff0-4d63-9c67-e3b49f21c399",
   "metadata": {},
   "outputs": [],
   "source": [
    "from sklearn.compose import ColumnTransformer\n",
    "from sklearn.preprocessing import StandardScaler\n",
    "from sklearn.preprocessing import OneHotEncoder"
   ]
  },
  {
   "cell_type": "markdown",
   "id": "fd9bfdbe-e6ed-4cf1-b7b1-472bf3d1db5b",
   "metadata": {},
   "source": [
    "#### Addestramento e Validazione"
   ]
  },
  {
   "cell_type": "markdown",
   "id": "5b828cc1-ea4e-44a9-9064-03073dff942b",
   "metadata": {},
   "source": [
    "- `Pipeline` : permette di utilizzare filtri e un modello di predizione insieme\n",
    "- `LinearRegression` : regressione lineare\n",
    "- `Ridge` : regressione Ridge\n",
    "- `Lasso` : regressione Lasso\n",
    "- `ElasticNet` : regressione Elastic Net"
   ]
  },
  {
   "cell_type": "code",
   "execution_count": 119,
   "id": "356a0c45-7196-45ad-9c7a-4e6bfab08b70",
   "metadata": {},
   "outputs": [],
   "source": [
    "from sklearn.pipeline import Pipeline\n",
    "from sklearn.linear_model import LinearRegression\n",
    "from sklearn.linear_model import Ridge\n",
    "from sklearn.linear_model import Lasso\n",
    "from sklearn.linear_model import ElasticNet"
   ]
  },
  {
   "cell_type": "markdown",
   "id": "8f5eb7b2-a25f-4421-bea6-10d1fd8f7311",
   "metadata": {},
   "source": [
    "#### GridSearch"
   ]
  },
  {
   "cell_type": "code",
   "execution_count": 122,
   "id": "ecbdc0cd-9d29-440d-82ed-512b6749e2b4",
   "metadata": {},
   "outputs": [],
   "source": [
    "from sklearn.model_selection import GridSearchCV"
   ]
  },
  {
   "cell_type": "markdown",
   "id": "7c7fd58c-64cf-4ca4-984e-54331f59847e",
   "metadata": {},
   "source": [
    "### Regressione Lineare"
   ]
  },
  {
   "cell_type": "code",
   "execution_count": 124,
   "id": "72192dfd-4608-4f56-8323-07906df6398a",
   "metadata": {},
   "outputs": [],
   "source": [
    "linear_model = Pipeline([\n",
    "    (\"preproc\", ColumnTransformer([\n",
    "        (\"numeric\", StandardScaler(), numeric_vars),\n",
    "        (\"categorical\", OneHotEncoder(handle_unknown=\"ignore\"), categorical_vars)\n",
    "    ])),\n",
    "    (\"regr\", LinearRegression())\n",
    "])"
   ]
  },
  {
   "cell_type": "code",
   "execution_count": 125,
   "id": "be12170b-5c43-4d3d-940f-3b816a6782b8",
   "metadata": {},
   "outputs": [
    {
     "name": "stdout",
     "output_type": "stream",
     "text": [
      "Mean squared error: 2.0382e+06\n",
      "Relative error: 32.24424%\n",
      "R-squared coefficient: 0.89958\n"
     ]
    }
   ],
   "source": [
    "linear_model.fit(X_train, y_train)\n",
    "print_eval(X_val, y_val, linear_model)"
   ]
  },
  {
   "cell_type": "markdown",
   "id": "a199f9c3-ad2b-4d93-aa63-fd46284a2ec2",
   "metadata": {},
   "source": [
    "### Regressione Ridge"
   ]
  },
  {
   "cell_type": "code",
   "execution_count": 129,
   "id": "d52073a1-7036-4531-886f-1b6d29651631",
   "metadata": {},
   "outputs": [
    {
     "data": {
      "text/html": [
       "<div>\n",
       "<style scoped>\n",
       "    .dataframe tbody tr th:only-of-type {\n",
       "        vertical-align: middle;\n",
       "    }\n",
       "\n",
       "    .dataframe tbody tr th {\n",
       "        vertical-align: top;\n",
       "    }\n",
       "\n",
       "    .dataframe thead th {\n",
       "        text-align: right;\n",
       "    }\n",
       "</style>\n",
       "<table border=\"1\" class=\"dataframe\">\n",
       "  <thead>\n",
       "    <tr style=\"text-align: right;\">\n",
       "      <th></th>\n",
       "      <th>mean_fit_time</th>\n",
       "      <th>std_fit_time</th>\n",
       "      <th>mean_score_time</th>\n",
       "      <th>std_score_time</th>\n",
       "      <th>param_regr__alpha</th>\n",
       "      <th>params</th>\n",
       "      <th>split0_test_score</th>\n",
       "      <th>split1_test_score</th>\n",
       "      <th>split2_test_score</th>\n",
       "      <th>split3_test_score</th>\n",
       "      <th>split4_test_score</th>\n",
       "      <th>mean_test_score</th>\n",
       "      <th>std_test_score</th>\n",
       "      <th>rank_test_score</th>\n",
       "    </tr>\n",
       "  </thead>\n",
       "  <tbody>\n",
       "    <tr>\n",
       "      <th>1</th>\n",
       "      <td>0.009955</td>\n",
       "      <td>0.000520</td>\n",
       "      <td>0.003807</td>\n",
       "      <td>0.001160</td>\n",
       "      <td>1</td>\n",
       "      <td>{'regr__alpha': 1}</td>\n",
       "      <td>0.908166</td>\n",
       "      <td>0.888788</td>\n",
       "      <td>0.927530</td>\n",
       "      <td>0.895329</td>\n",
       "      <td>0.888470</td>\n",
       "      <td>0.901657</td>\n",
       "      <td>0.014774</td>\n",
       "      <td>1</td>\n",
       "    </tr>\n",
       "    <tr>\n",
       "      <th>0</th>\n",
       "      <td>0.013550</td>\n",
       "      <td>0.004260</td>\n",
       "      <td>0.001644</td>\n",
       "      <td>0.002014</td>\n",
       "      <td>0.1</td>\n",
       "      <td>{'regr__alpha': 0.1}</td>\n",
       "      <td>0.909428</td>\n",
       "      <td>0.888992</td>\n",
       "      <td>0.924339</td>\n",
       "      <td>0.899311</td>\n",
       "      <td>0.886098</td>\n",
       "      <td>0.901634</td>\n",
       "      <td>0.014020</td>\n",
       "      <td>2</td>\n",
       "    </tr>\n",
       "    <tr>\n",
       "      <th>2</th>\n",
       "      <td>0.009350</td>\n",
       "      <td>0.008643</td>\n",
       "      <td>0.004265</td>\n",
       "      <td>0.005831</td>\n",
       "      <td>2</td>\n",
       "      <td>{'regr__alpha': 2}</td>\n",
       "      <td>0.906794</td>\n",
       "      <td>0.887996</td>\n",
       "      <td>0.928711</td>\n",
       "      <td>0.892221</td>\n",
       "      <td>0.888908</td>\n",
       "      <td>0.900926</td>\n",
       "      <td>0.015452</td>\n",
       "      <td>3</td>\n",
       "    </tr>\n",
       "  </tbody>\n",
       "</table>\n",
       "</div>"
      ],
      "text/plain": [
       "   mean_fit_time  std_fit_time  mean_score_time  std_score_time  \\\n",
       "1       0.009955      0.000520         0.003807        0.001160   \n",
       "0       0.013550      0.004260         0.001644        0.002014   \n",
       "2       0.009350      0.008643         0.004265        0.005831   \n",
       "\n",
       "  param_regr__alpha                params  split0_test_score  \\\n",
       "1                 1    {'regr__alpha': 1}           0.908166   \n",
       "0               0.1  {'regr__alpha': 0.1}           0.909428   \n",
       "2                 2    {'regr__alpha': 2}           0.906794   \n",
       "\n",
       "   split1_test_score  split2_test_score  split3_test_score  split4_test_score  \\\n",
       "1           0.888788           0.927530           0.895329           0.888470   \n",
       "0           0.888992           0.924339           0.899311           0.886098   \n",
       "2           0.887996           0.928711           0.892221           0.888908   \n",
       "\n",
       "   mean_test_score  std_test_score  rank_test_score  \n",
       "1         0.901657        0.014774                1  \n",
       "0         0.901634        0.014020                2  \n",
       "2         0.900926        0.015452                3  "
      ]
     },
     "execution_count": 129,
     "metadata": {},
     "output_type": "execute_result"
    }
   ],
   "source": [
    "ridge_model = Pipeline([\n",
    "    (\"preproc\", ColumnTransformer([\n",
    "        (\"numeric\", StandardScaler(), numeric_vars),\n",
    "        (\"categorical\", OneHotEncoder(handle_unknown=\"ignore\" ), categorical_vars)\n",
    "    ])),\n",
    "    (\"regr\", Ridge())\n",
    "])\n",
    "grid = {\n",
    "    \"regr__alpha\": [0.1, 1, 2]\n",
    "    }\n",
    "gs = GridSearchCV(ridge_model, param_grid=grid, cv=5)\n",
    "gs.fit(X_train, y_train)\n",
    "pd.DataFrame(gs.cv_results_).sort_values(\"mean_test_score\", ascending=False)"
   ]
  },
  {
   "cell_type": "markdown",
   "id": "ad6b6169-fa5c-41aa-a29c-ae8f5a479fb7",
   "metadata": {},
   "source": [
    "Come si può notare non c'è una grossa differenza tra i vari $\\alpha$, il migliore però è 1 quindi andremo ad addrestrare il modello con $\\alpha = 1$."
   ]
  },
  {
   "cell_type": "code",
   "execution_count": 134,
   "id": "28071163-860b-473b-8a90-5585cc141c00",
   "metadata": {},
   "outputs": [
    {
     "name": "stdout",
     "output_type": "stream",
     "text": [
      "Mean squared error: 2.0004e+06\n",
      "Relative error: 32.59284%\n",
      "R-squared coefficient: 0.90145\n"
     ]
    }
   ],
   "source": [
    "ridge_model = Pipeline([\n",
    "    (\"preproc\", ColumnTransformer([\n",
    "        (\"numeric\", StandardScaler(), numeric_vars),\n",
    "        (\"categorical\", OneHotEncoder(handle_unknown=\"ignore\" ), categorical_vars)\n",
    "    ])),\n",
    "    (\"regr\", Ridge()) # alpha di default è settato a 1\n",
    "])\n",
    "ridge_model.fit(X_train, y_train)\n",
    "print_eval(X_val, y_val, ridge_model)"
   ]
  },
  {
   "cell_type": "markdown",
   "id": "da1e355c-3441-4e50-8ffd-aea396c7911d",
   "metadata": {},
   "source": [
    "### Regressione Lasso"
   ]
  },
  {
   "cell_type": "code",
   "execution_count": 186,
   "id": "76a61295-c95a-40fb-90ad-13611904966f",
   "metadata": {},
   "outputs": [
    {
     "data": {
      "text/html": [
       "<div>\n",
       "<style scoped>\n",
       "    .dataframe tbody tr th:only-of-type {\n",
       "        vertical-align: middle;\n",
       "    }\n",
       "\n",
       "    .dataframe tbody tr th {\n",
       "        vertical-align: top;\n",
       "    }\n",
       "\n",
       "    .dataframe thead th {\n",
       "        text-align: right;\n",
       "    }\n",
       "</style>\n",
       "<table border=\"1\" class=\"dataframe\">\n",
       "  <thead>\n",
       "    <tr style=\"text-align: right;\">\n",
       "      <th></th>\n",
       "      <th>mean_fit_time</th>\n",
       "      <th>std_fit_time</th>\n",
       "      <th>mean_score_time</th>\n",
       "      <th>std_score_time</th>\n",
       "      <th>param_regr__alpha</th>\n",
       "      <th>params</th>\n",
       "      <th>split0_test_score</th>\n",
       "      <th>split1_test_score</th>\n",
       "      <th>split2_test_score</th>\n",
       "      <th>split3_test_score</th>\n",
       "      <th>split4_test_score</th>\n",
       "      <th>mean_test_score</th>\n",
       "      <th>std_test_score</th>\n",
       "      <th>rank_test_score</th>\n",
       "    </tr>\n",
       "  </thead>\n",
       "  <tbody>\n",
       "    <tr>\n",
       "      <th>2</th>\n",
       "      <td>0.015622</td>\n",
       "      <td>0.000017</td>\n",
       "      <td>0.000000</td>\n",
       "      <td>0.000000</td>\n",
       "      <td>2</td>\n",
       "      <td>{'regr__alpha': 2}</td>\n",
       "      <td>0.908880</td>\n",
       "      <td>0.891117</td>\n",
       "      <td>0.923330</td>\n",
       "      <td>0.896849</td>\n",
       "      <td>0.887690</td>\n",
       "      <td>0.901573</td>\n",
       "      <td>0.013047</td>\n",
       "      <td>1</td>\n",
       "    </tr>\n",
       "    <tr>\n",
       "      <th>1</th>\n",
       "      <td>0.022687</td>\n",
       "      <td>0.008998</td>\n",
       "      <td>0.003140</td>\n",
       "      <td>0.006280</td>\n",
       "      <td>1</td>\n",
       "      <td>{'regr__alpha': 1}</td>\n",
       "      <td>0.908932</td>\n",
       "      <td>0.889990</td>\n",
       "      <td>0.921397</td>\n",
       "      <td>0.897867</td>\n",
       "      <td>0.886886</td>\n",
       "      <td>0.901015</td>\n",
       "      <td>0.012722</td>\n",
       "      <td>2</td>\n",
       "    </tr>\n",
       "    <tr>\n",
       "      <th>0</th>\n",
       "      <td>0.096493</td>\n",
       "      <td>0.022978</td>\n",
       "      <td>0.000613</td>\n",
       "      <td>0.001227</td>\n",
       "      <td>0.1</td>\n",
       "      <td>{'regr__alpha': 0.1}</td>\n",
       "      <td>0.909446</td>\n",
       "      <td>0.889024</td>\n",
       "      <td>0.918855</td>\n",
       "      <td>0.899713</td>\n",
       "      <td>0.886041</td>\n",
       "      <td>0.900616</td>\n",
       "      <td>0.012314</td>\n",
       "      <td>3</td>\n",
       "    </tr>\n",
       "  </tbody>\n",
       "</table>\n",
       "</div>"
      ],
      "text/plain": [
       "   mean_fit_time  std_fit_time  mean_score_time  std_score_time  \\\n",
       "2       0.015622      0.000017         0.000000        0.000000   \n",
       "1       0.022687      0.008998         0.003140        0.006280   \n",
       "0       0.096493      0.022978         0.000613        0.001227   \n",
       "\n",
       "  param_regr__alpha                params  split0_test_score  \\\n",
       "2                 2    {'regr__alpha': 2}           0.908880   \n",
       "1                 1    {'regr__alpha': 1}           0.908932   \n",
       "0               0.1  {'regr__alpha': 0.1}           0.909446   \n",
       "\n",
       "   split1_test_score  split2_test_score  split3_test_score  split4_test_score  \\\n",
       "2           0.891117           0.923330           0.896849           0.887690   \n",
       "1           0.889990           0.921397           0.897867           0.886886   \n",
       "0           0.889024           0.918855           0.899713           0.886041   \n",
       "\n",
       "   mean_test_score  std_test_score  rank_test_score  \n",
       "2         0.901573        0.013047                1  \n",
       "1         0.901015        0.012722                2  \n",
       "0         0.900616        0.012314                3  "
      ]
     },
     "execution_count": 186,
     "metadata": {},
     "output_type": "execute_result"
    }
   ],
   "source": [
    "lasso_model = Pipeline([\n",
    "    (\"preproc\", ColumnTransformer([\n",
    "        (\"numeric\", StandardScaler(), numeric_vars),\n",
    "        (\"categorical\", OneHotEncoder(handle_unknown=\"ignore\" ), categorical_vars)\n",
    "    ])),\n",
    "    (\"regr\", Lasso())\n",
    "])\n",
    "lasso_grid = {\n",
    "    \"regr__alpha\": [ 0.1, 1, 2]\n",
    "    }\n",
    "lasso_gs = GridSearchCV(lasso_model, param_grid=lasso_grid, cv=5)\n",
    "lasso_gs.fit(X_train, y_train)\n",
    "pd.DataFrame(lasso_gs.cv_results_).sort_values(\"mean_test_score\", ascending=False)"
   ]
  },
  {
   "cell_type": "markdown",
   "id": "aee5962c-9621-45db-9215-50a50774bcd9",
   "metadata": {},
   "source": [
    "Il parametro $\\alpha$ migliore è 2, il risultato ottenuto è molto simile a quello ottenuto con la regresione Ridge"
   ]
  },
  {
   "cell_type": "code",
   "execution_count": 203,
   "id": "361a81a3-25f4-49e0-8e20-a6f694eb3788",
   "metadata": {},
   "outputs": [
    {
     "name": "stdout",
     "output_type": "stream",
     "text": [
      "Mean squared error: 1.998e+06\n",
      "Relative error: 32.33786%\n",
      "R-squared coefficient: 0.90157\n"
     ]
    }
   ],
   "source": [
    "lasso_model = Pipeline([\n",
    "    (\"preproc\", ColumnTransformer([\n",
    "        (\"numeric\", StandardScaler(), numeric_vars),\n",
    "        (\"categorical\", OneHotEncoder(handle_unknown=\"ignore\" ), categorical_vars)\n",
    "    ])),\n",
    "    (\"regr\", Lasso(alpha=2))\n",
    "])\n",
    "lasso_model.fit(X_train, y_train)\n",
    "print_eval(X_val, y_val, lasso_model)"
   ]
  },
  {
   "cell_type": "markdown",
   "id": "80560f9a-7972-4bd1-bf5f-1edb0494f9a7",
   "metadata": {},
   "source": [
    "### Regressione Elastic Net"
   ]
  },
  {
   "cell_type": "code",
   "execution_count": 200,
   "id": "958d99ae-9b56-443e-acd5-f3c69623fa53",
   "metadata": {},
   "outputs": [
    {
     "data": {
      "text/html": [
       "<div>\n",
       "<style scoped>\n",
       "    .dataframe tbody tr th:only-of-type {\n",
       "        vertical-align: middle;\n",
       "    }\n",
       "\n",
       "    .dataframe tbody tr th {\n",
       "        vertical-align: top;\n",
       "    }\n",
       "\n",
       "    .dataframe thead th {\n",
       "        text-align: right;\n",
       "    }\n",
       "</style>\n",
       "<table border=\"1\" class=\"dataframe\">\n",
       "  <thead>\n",
       "    <tr style=\"text-align: right;\">\n",
       "      <th></th>\n",
       "      <th>mean_fit_time</th>\n",
       "      <th>std_fit_time</th>\n",
       "      <th>mean_score_time</th>\n",
       "      <th>std_score_time</th>\n",
       "      <th>param_regr__alpha</th>\n",
       "      <th>param_regr__l1_ratio</th>\n",
       "      <th>params</th>\n",
       "      <th>split0_test_score</th>\n",
       "      <th>split1_test_score</th>\n",
       "      <th>split2_test_score</th>\n",
       "      <th>split3_test_score</th>\n",
       "      <th>split4_test_score</th>\n",
       "      <th>mean_test_score</th>\n",
       "      <th>std_test_score</th>\n",
       "      <th>rank_test_score</th>\n",
       "    </tr>\n",
       "  </thead>\n",
       "  <tbody>\n",
       "    <tr>\n",
       "      <th>2</th>\n",
       "      <td>0.015626</td>\n",
       "      <td>0.000002</td>\n",
       "      <td>0.000000</td>\n",
       "      <td>0.000000</td>\n",
       "      <td>0.1</td>\n",
       "      <td>0.3</td>\n",
       "      <td>{'regr__alpha': 0.1, 'regr__l1_ratio': 0.3}</td>\n",
       "      <td>0.860519</td>\n",
       "      <td>0.858985</td>\n",
       "      <td>0.889862</td>\n",
       "      <td>0.849136</td>\n",
       "      <td>0.849615</td>\n",
       "      <td>0.861624</td>\n",
       "      <td>0.014871</td>\n",
       "      <td>1</td>\n",
       "    </tr>\n",
       "    <tr>\n",
       "      <th>1</th>\n",
       "      <td>0.012060</td>\n",
       "      <td>0.009678</td>\n",
       "      <td>0.000600</td>\n",
       "      <td>0.001201</td>\n",
       "      <td>0.1</td>\n",
       "      <td>0.2</td>\n",
       "      <td>{'regr__alpha': 0.1, 'regr__l1_ratio': 0.2}</td>\n",
       "      <td>0.856616</td>\n",
       "      <td>0.856730</td>\n",
       "      <td>0.885358</td>\n",
       "      <td>0.845739</td>\n",
       "      <td>0.846468</td>\n",
       "      <td>0.858182</td>\n",
       "      <td>0.014388</td>\n",
       "      <td>2</td>\n",
       "    </tr>\n",
       "    <tr>\n",
       "      <th>0</th>\n",
       "      <td>0.014053</td>\n",
       "      <td>0.005616</td>\n",
       "      <td>0.002638</td>\n",
       "      <td>0.002648</td>\n",
       "      <td>0.1</td>\n",
       "      <td>0.1</td>\n",
       "      <td>{'regr__alpha': 0.1, 'regr__l1_ratio': 0.1}</td>\n",
       "      <td>0.852949</td>\n",
       "      <td>0.854673</td>\n",
       "      <td>0.881100</td>\n",
       "      <td>0.842525</td>\n",
       "      <td>0.843571</td>\n",
       "      <td>0.854964</td>\n",
       "      <td>0.013941</td>\n",
       "      <td>3</td>\n",
       "    </tr>\n",
       "  </tbody>\n",
       "</table>\n",
       "</div>"
      ],
      "text/plain": [
       "   mean_fit_time  std_fit_time  mean_score_time  std_score_time  \\\n",
       "2       0.015626      0.000002         0.000000        0.000000   \n",
       "1       0.012060      0.009678         0.000600        0.001201   \n",
       "0       0.014053      0.005616         0.002638        0.002648   \n",
       "\n",
       "  param_regr__alpha param_regr__l1_ratio  \\\n",
       "2               0.1                  0.3   \n",
       "1               0.1                  0.2   \n",
       "0               0.1                  0.1   \n",
       "\n",
       "                                        params  split0_test_score  \\\n",
       "2  {'regr__alpha': 0.1, 'regr__l1_ratio': 0.3}           0.860519   \n",
       "1  {'regr__alpha': 0.1, 'regr__l1_ratio': 0.2}           0.856616   \n",
       "0  {'regr__alpha': 0.1, 'regr__l1_ratio': 0.1}           0.852949   \n",
       "\n",
       "   split1_test_score  split2_test_score  split3_test_score  split4_test_score  \\\n",
       "2           0.858985           0.889862           0.849136           0.849615   \n",
       "1           0.856730           0.885358           0.845739           0.846468   \n",
       "0           0.854673           0.881100           0.842525           0.843571   \n",
       "\n",
       "   mean_test_score  std_test_score  rank_test_score  \n",
       "2         0.861624        0.014871                1  \n",
       "1         0.858182        0.014388                2  \n",
       "0         0.854964        0.013941                3  "
      ]
     },
     "execution_count": 200,
     "metadata": {},
     "output_type": "execute_result"
    }
   ],
   "source": [
    "elastic_net_model = Pipeline([\n",
    "    (\"preproc\", ColumnTransformer([\n",
    "        (\"numeric\", StandardScaler(), numeric_vars),\n",
    "        (\"categorical\", OneHotEncoder(handle_unknown=\"ignore\" ), categorical_vars)\n",
    "    ])),\n",
    "    (\"regr\", ElasticNet())\n",
    "])\n",
    "elastic_net_grid = {\n",
    "    \"regr__alpha\": [ 0.1, 1, 2],\n",
    "     \"regr__l1_ratio\": [0.1, 0.2, 0.3]\n",
    "    }\n",
    "elastic_net_gs = GridSearchCV(elastic_net_model, param_grid=elastic_net_grid, cv=5)\n",
    "elastic_net_gs.fit(X_train, y_train)\n",
    "pd.DataFrame(elastic_net_gs.cv_results_).sort_values(\"mean_test_score\", ascending=False).head(3)"
   ]
  },
  {
   "cell_type": "markdown",
   "id": "9e2a01e2-3753-4e2b-8a34-7a29b498911b",
   "metadata": {},
   "source": [
    "Il modello migliore è quello con 'regr__alpha': 0.1, 'regr__l1_ratio': 0.3"
   ]
  },
  {
   "cell_type": "code",
   "execution_count": 196,
   "id": "47f973bb-18a8-4301-8043-8289753b8211",
   "metadata": {},
   "outputs": [
    {
     "name": "stdout",
     "output_type": "stream",
     "text": [
      "Mean squared error: 2.8223e+06\n",
      "Relative error: 38.04298%\n",
      "R-squared coefficient: 0.86095\n"
     ]
    }
   ],
   "source": [
    "elastic_net_model = Pipeline([\n",
    "    (\"preproc\", ColumnTransformer([\n",
    "        (\"numeric\", StandardScaler(), numeric_vars),\n",
    "        (\"categorical\", OneHotEncoder(handle_unknown=\"ignore\" ), categorical_vars)\n",
    "    ])),\n",
    "    (\"regr\", ElasticNet(alpha=0.1, l1_ratio=0.3))\n",
    "])\n",
    "elastic_net_model.fit(X_train, y_train)\n",
    "print_eval(X_val, y_val, elastic_net_model)"
   ]
  },
  {
   "cell_type": "markdown",
   "id": "8103e6b8-800a-4c6f-b8ff-aae994e921e9",
   "metadata": {},
   "source": [
    "Il risultato ottenuto però è il peggiore tra tutti i modelli addestrati"
   ]
  },
  {
   "cell_type": "markdown",
   "id": "fcb5c99f-ea9f-49d9-a835-ed5c8ae859bd",
   "metadata": {},
   "source": [
    "## Analisi Coefficienti"
   ]
  },
  {
   "cell_type": "code",
   "execution_count": 206,
   "id": "70cb2642-9fe8-4968-bb94-74fb3ed45ce0",
   "metadata": {},
   "outputs": [],
   "source": [
    "X_names = np.r_[\n",
    "    numeric_vars,\n",
    "    ridge_model.named_steps[\"preproc\"].named_transformers_[\"categorical\"].get_feature_names_out(categorical_vars)\n",
    "].tolist()"
   ]
  },
  {
   "cell_type": "code",
   "execution_count": 208,
   "id": "06be912b-7151-44e8-9f5e-2efa48113b66",
   "metadata": {},
   "outputs": [
    {
     "data": {
      "text/plain": [
       "fuel_Diesel          -3496.375505\n",
       "fuel_Petrol Hybrid   -3103.122347\n",
       "fuel_Petrol          -3028.984942\n",
       "model_Outlander      -2996.601763\n",
       "make_Mitsubishi      -2996.601763\n",
       "model_Qashqai+2      -2278.010450\n",
       "body_MPV             -1697.524672\n",
       "mileage              -1148.110943\n",
       "make_Nissan          -1090.909354\n",
       "model_207            -1075.057440\n",
       "dtype: float64"
      ]
     },
     "execution_count": 208,
     "metadata": {},
     "output_type": "execute_result"
    }
   ],
   "source": [
    "coefficienti = pd.Series(linear_model.named_steps[\"regr\"].coef_, X_names).sort_values()\n",
    "coefficienti.head(10)"
   ]
  },
  {
   "cell_type": "code",
   "execution_count": 210,
   "id": "03646f3a-04e0-4dfa-86f4-753155930165",
   "metadata": {},
   "outputs": [
    {
     "data": {
      "text/plain": [
       "make_Mercedes-Benz            1554.412833\n",
       "body_SUV                      1578.957203\n",
       "model_Micra                   1639.273687\n",
       "model_308 SW                  2203.745349\n",
       "model_A Class                 2560.187171\n",
       "make_Audi                     2768.380093\n",
       "registration_year             2905.024497\n",
       "model_A5 DIESEL COUPE         3552.728081\n",
       "fuel_Petrol Plug-in Hybrid    3979.563626\n",
       "fuel_Diesel Hybrid            5648.919168\n",
       "dtype: float64"
      ]
     },
     "execution_count": 210,
     "metadata": {},
     "output_type": "execute_result"
    }
   ],
   "source": [
    "coefficienti.tail(10)"
   ]
  },
  {
   "cell_type": "markdown",
   "id": "15675e74-c5ce-4d0c-8864-f27782249661",
   "metadata": {},
   "source": [
    "Questi sono i valori dei coefficienti ottenuti con la Regressione Lineare"
   ]
  },
  {
   "cell_type": "code",
   "execution_count": 213,
   "id": "566ec5a2-98c0-4bb0-a08f-5d9d681e8b2d",
   "metadata": {},
   "outputs": [
    {
     "data": {
      "text/plain": [
       "fuel_Diesel          -2641.887646\n",
       "fuel_Petrol          -2202.000574\n",
       "fuel_Petrol Hybrid   -2169.866801\n",
       "model_Outlander      -1817.172648\n",
       "make_Mitsubishi      -1817.172648\n",
       "model_KA             -1211.738907\n",
       "mileage              -1162.467731\n",
       "model_207            -1007.047206\n",
       "make_Vauxhall        -1000.536235\n",
       "body_MPV              -991.199931\n",
       "dtype: float64"
      ]
     },
     "execution_count": 213,
     "metadata": {},
     "output_type": "execute_result"
    }
   ],
   "source": [
    "coefficienti = pd.Series(ridge_model.named_steps[\"regr\"].coef_, X_names).sort_values()\n",
    "coefficienti.head(10)"
   ]
  },
  {
   "cell_type": "code",
   "execution_count": 215,
   "id": "37223a4d-7ce0-4f41-9477-46cb4180e4e3",
   "metadata": {},
   "outputs": [
    {
     "data": {
      "text/plain": [
       "make_Mercedes-Benz            1279.064914\n",
       "make_Volkswagen               1534.828694\n",
       "model_308 SW                  1983.524419\n",
       "model_T-cross                 2096.509471\n",
       "make_Audi                     2458.098069\n",
       "model_A Class                 2499.122166\n",
       "registration_year             2924.896112\n",
       "fuel_Diesel Hybrid            2970.997128\n",
       "model_A5 DIESEL COUPE         3016.618205\n",
       "fuel_Petrol Plug-in Hybrid    4042.757894\n",
       "dtype: float64"
      ]
     },
     "execution_count": 215,
     "metadata": {},
     "output_type": "execute_result"
    }
   ],
   "source": [
    "coefficienti.tail(10)"
   ]
  },
  {
   "cell_type": "markdown",
   "id": "0190baae-63b9-4178-a415-38d6c2f356a9",
   "metadata": {},
   "source": [
    "Utilizzando la regressione Ridge, i valori diventano più piccoli, questo per effetto della Regolarizzazione"
   ]
  },
  {
   "cell_type": "code",
   "execution_count": 218,
   "id": "42c442dd-fed3-4823-a3c0-11dd9ed8706f",
   "metadata": {
    "scrolled": true
   },
   "outputs": [
    {
     "data": {
      "text/plain": [
       "make_Mitsubishi   -2586.555356\n",
       "model_KA          -1343.696875\n",
       "mileage           -1156.604611\n",
       "body_MPV           -864.287208\n",
       "make_KIA           -801.078331\n",
       "make_Vauxhall      -659.786595\n",
       "body_Hatchback     -611.223318\n",
       "model_207          -554.084078\n",
       "fuel_Diesel        -452.312397\n",
       "make_Fiat          -412.454002\n",
       "dtype: float64"
      ]
     },
     "execution_count": 218,
     "metadata": {},
     "output_type": "execute_result"
    }
   ],
   "source": [
    "coefficienti = pd.Series(lasso_model.named_steps[\"regr\"].coef_, X_names).sort_values()\n",
    "coefficienti.head(10)"
   ]
  },
  {
   "cell_type": "code",
   "execution_count": 220,
   "id": "df12d389-16b2-4094-95ae-2001eebbf750",
   "metadata": {},
   "outputs": [
    {
     "data": {
      "text/plain": [
       "make_BMW                      1559.438171\n",
       "make_Volkswagen               1761.607692\n",
       "model_308 SW                  2295.567073\n",
       "make_Audi                     2334.777497\n",
       "model_T-cross                 2645.364470\n",
       "registration_year             2920.864350\n",
       "model_A Class                 3366.744053\n",
       "model_A5 DIESEL COUPE         3612.880602\n",
       "fuel_Diesel Hybrid            6340.955962\n",
       "fuel_Petrol Plug-in Hybrid    6496.394373\n",
       "dtype: float64"
      ]
     },
     "execution_count": 220,
     "metadata": {},
     "output_type": "execute_result"
    }
   ],
   "source": [
    "coefficienti.tail(10)"
   ]
  },
  {
   "cell_type": "markdown",
   "id": "78ef9f2b-085c-4b4e-800a-d397e619838e",
   "metadata": {},
   "source": [
    "I coefficienti con la regressione lasso hanno valori più alti, rispetto alla Regressione Ridge"
   ]
  },
  {
   "cell_type": "code",
   "execution_count": 223,
   "id": "1231e2a6-5158-48b5-833e-399f957141c1",
   "metadata": {},
   "outputs": [
    {
     "data": {
      "text/plain": [
       "31"
      ]
     },
     "execution_count": 223,
     "metadata": {},
     "output_type": "execute_result"
    }
   ],
   "source": [
    "coefficienti[coefficienti == 0].count()"
   ]
  },
  {
   "cell_type": "markdown",
   "id": "6d3fbfc8-bfee-4ba8-a8a0-86225aff685c",
   "metadata": {},
   "source": [
    "Con la regressione lasso però i si azzerano 31 coefficienti (su 89 totali)"
   ]
  },
  {
   "cell_type": "markdown",
   "id": "60733dd2-2605-4cc8-8dd8-187b495e7b13",
   "metadata": {},
   "source": [
    "## Conclusioni"
   ]
  },
  {
   "cell_type": "markdown",
   "id": "88260f3a-aea2-4f4a-b434-1a656adb4e3d",
   "metadata": {},
   "source": [
    "Ho addestra 4 modelli diversi. I risultati ottenuti si assomigliano molto tra di loro. Anche se il migliore risultato è stato ottenuto utilizzando la regressione Lasso."
   ]
  },
  {
   "cell_type": "markdown",
   "id": "4381ba91-1a3b-44b8-bc24-952c1e25d416",
   "metadata": {},
   "source": [
    "Senza l'eliminazione delle marche e modelli poco utilizzati, il modello aveva uno score minore (0.86).\n",
    "Usando la regressione Ridge, la regolarizzazione era più marcata infatti i coefficienti, rispetto alla Regressione Lineare, erano molto più bassi, quasi la metà (dato dal fatto che si aveva un alpha_best = 2, e questo portava alla restizione del raggio e quindi alla conseguente diminuzione dei valori)"
   ]
  }
 ],
 "metadata": {
  "kernelspec": {
   "display_name": "Python 3 (ipykernel)",
   "language": "python",
   "name": "python3"
  },
  "language_info": {
   "codemirror_mode": {
    "name": "ipython",
    "version": 3
   },
   "file_extension": ".py",
   "mimetype": "text/x-python",
   "name": "python",
   "nbconvert_exporter": "python",
   "pygments_lexer": "ipython3",
   "version": "3.12.4"
  }
 },
 "nbformat": 4,
 "nbformat_minor": 5
}
